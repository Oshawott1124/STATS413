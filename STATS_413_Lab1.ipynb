{
 "cells": [
  {
   "cell_type": "markdown",
   "metadata": {
    "colab_type": "text",
    "id": "E9rAO0XscEe8"
   },
   "source": [
    "## Lab1: Review of R\n",
    "### Basic arithmetic operations"
   ]
  },
  {
   "cell_type": "code",
   "execution_count": null,
   "metadata": {
    "colab": {
     "base_uri": "https://localhost:8080/",
     "height": 85
    },
    "colab_type": "code",
    "id": "R7vA6h2JcEe9",
    "outputId": "d194a4b5-dd4a-4af7-c0dd-31878307e963",
    "scrolled": false
   },
   "outputs": [
    {
     "data": {
      "text/html": [
       "11"
      ],
      "text/latex": [
       "11"
      ],
      "text/markdown": [
       "11"
      ],
      "text/plain": [
       "[1] 11"
      ]
     },
     "metadata": {
      "tags": []
     },
     "output_type": "display_data"
    },
    {
     "data": {
      "text/html": [
       "3"
      ],
      "text/latex": [
       "3"
      ],
      "text/markdown": [
       "3"
      ],
      "text/plain": [
       "[1] 3"
      ]
     },
     "metadata": {
      "tags": []
     },
     "output_type": "display_data"
    },
    {
     "data": {
      "text/html": [
       "3.5"
      ],
      "text/latex": [
       "3.5"
      ],
      "text/markdown": [
       "3.5"
      ],
      "text/plain": [
       "[1] 3.5"
      ]
     },
     "metadata": {
      "tags": []
     },
     "output_type": "display_data"
    },
    {
     "data": {
      "text/html": [
       "14"
      ],
      "text/latex": [
       "14"
      ],
      "text/markdown": [
       "14"
      ],
      "text/plain": [
       "[1] 14"
      ]
     },
     "metadata": {
      "tags": []
     },
     "output_type": "display_data"
    }
   ],
   "source": [
    "7 + 4 \n",
    "7 - 4\n",
    "7 / 2 \n",
    "7 * 2 "
   ]
  },
  {
   "cell_type": "markdown",
   "metadata": {
    "colab_type": "text",
    "id": "cLb5qNpUcEfB"
   },
   "source": [
    "### Basic arithmetic function"
   ]
  },
  {
   "cell_type": "code",
   "execution_count": null,
   "metadata": {
    "colab": {
     "base_uri": "https://localhost:8080/",
     "height": 68
    },
    "colab_type": "code",
    "id": "1T_KwoBqcEfB",
    "outputId": "8a04fee8-14bd-4f4f-b516-4713494cb01c"
   },
   "outputs": [
    {
     "data": {
      "text/html": [
       "0"
      ],
      "text/latex": [
       "0"
      ],
      "text/markdown": [
       "0"
      ],
      "text/plain": [
       "[1] 0"
      ]
     },
     "metadata": {
      "tags": []
     },
     "output_type": "display_data"
    },
    {
     "data": {
      "text/html": [
       "0.0183156388887342"
      ],
      "text/latex": [
       "0.0183156388887342"
      ],
      "text/markdown": [
       "0.0183156388887342"
      ],
      "text/plain": [
       "[1] 0.01831564"
      ]
     },
     "metadata": {
      "tags": []
     },
     "output_type": "display_data"
    },
    {
     "data": {
      "text/html": [
       "2"
      ],
      "text/latex": [
       "2"
      ],
      "text/markdown": [
       "2"
      ],
      "text/plain": [
       "[1] 2"
      ]
     },
     "metadata": {
      "tags": []
     },
     "output_type": "display_data"
    }
   ],
   "source": [
    "log(1)\n",
    "exp(-4)\n",
    "sqrt(4)"
   ]
  },
  {
   "cell_type": "markdown",
   "metadata": {
    "colab_type": "text",
    "id": "fxt7wsQscEfI"
   },
   "source": [
    "### Vectors\n",
    "Vectors are the simplest R data objects.\n",
    "* Create a vector with \"combine\":c()"
   ]
  },
  {
   "cell_type": "code",
   "execution_count": null,
   "metadata": {
    "colab": {},
    "colab_type": "code",
    "id": "8uCqfbARcEfJ"
   },
   "outputs": [],
   "source": [
    "x1 <- c(1, 3, 7:12)"
   ]
  },
  {
   "cell_type": "markdown",
   "metadata": {
    "colab_type": "text",
    "id": "LKRHO0PQcEfM"
   },
   "source": [
    "And to see the result, you can either:"
   ]
  },
  {
   "cell_type": "code",
   "execution_count": null,
   "metadata": {
    "colab": {
     "base_uri": "https://localhost:8080/",
     "height": 34
    },
    "colab_type": "code",
    "id": "RL49N8eecEfM",
    "outputId": "a8ced528-18c1-4e9f-c57d-16ed5f464226"
   },
   "outputs": [
    {
     "name": "stdout",
     "output_type": "stream",
     "text": [
      "[1]  1  3  7  8  9 10 11 12\n"
     ]
    }
   ],
   "source": [
    "print(x1)"
   ]
  },
  {
   "cell_type": "markdown",
   "metadata": {
    "colab_type": "text",
    "id": "sN0Bxce7cEfQ"
   },
   "source": [
    "or"
   ]
  },
  {
   "cell_type": "code",
   "execution_count": null,
   "metadata": {
    "colab": {
     "base_uri": "https://localhost:8080/",
     "height": 34
    },
    "colab_type": "code",
    "id": "Dm0bxNhWcEfQ",
    "outputId": "1571a5bc-fca7-4b97-912d-3a7e0f712d36"
   },
   "outputs": [
    {
     "data": {
      "text/html": [
       "<style>\n",
       ".list-inline {list-style: none; margin:0; padding: 0}\n",
       ".list-inline>li {display: inline-block}\n",
       ".list-inline>li:not(:last-child)::after {content: \"\\00b7\"; padding: 0 .5ex}\n",
       "</style>\n",
       "<ol class=list-inline><li>1</li><li>3</li><li>7</li><li>8</li><li>9</li><li>10</li><li>11</li><li>12</li></ol>\n"
      ],
      "text/latex": [
       "\\begin{enumerate*}\n",
       "\\item 1\n",
       "\\item 3\n",
       "\\item 7\n",
       "\\item 8\n",
       "\\item 9\n",
       "\\item 10\n",
       "\\item 11\n",
       "\\item 12\n",
       "\\end{enumerate*}\n"
      ],
      "text/markdown": [
       "1. 1\n",
       "2. 3\n",
       "3. 7\n",
       "4. 8\n",
       "5. 9\n",
       "6. 10\n",
       "7. 11\n",
       "8. 12\n",
       "\n",
       "\n"
      ],
      "text/plain": [
       "[1]  1  3  7  8  9 10 11 12"
      ]
     },
     "metadata": {
      "tags": []
     },
     "output_type": "display_data"
    }
   ],
   "source": [
    "# Including in () also print the vector\n",
    "(x1)"
   ]
  },
  {
   "cell_type": "markdown",
   "metadata": {
    "colab_type": "text",
    "id": "6lXl7q_1cEfT"
   },
   "source": [
    "* Get a subset of a vector: my_vector[i] to get the ith element"
   ]
  },
  {
   "cell_type": "code",
   "execution_count": null,
   "metadata": {
    "colab": {
     "base_uri": "https://localhost:8080/",
     "height": 34
    },
    "colab_type": "code",
    "id": "jfwSrZK4cEfU",
    "outputId": "e204b4d6-d984-4557-aba2-284708be18f3"
   },
   "outputs": [
    {
     "data": {
      "text/html": [
       "'Tue'"
      ],
      "text/latex": [
       "'Tue'"
      ],
      "text/markdown": [
       "'Tue'"
      ],
      "text/plain": [
       "[1] \"Tue\""
      ]
     },
     "metadata": {
      "tags": []
     },
     "output_type": "display_data"
    }
   ],
   "source": [
    "days <- c(\"Sun\", \"Mon\", \"Tue\",\"Wed\",\"Thurs\",\"Fri\", \"Sat\")\n",
    "(today <- days[3])"
   ]
  },
  {
   "cell_type": "markdown",
   "metadata": {
    "colab_type": "text",
    "id": "wl5S8u62cEfX"
   },
   "source": [
    "* You can also access the element of a vector using logical operations:"
   ]
  },
  {
   "cell_type": "code",
   "execution_count": null,
   "metadata": {
    "colab": {
     "base_uri": "https://localhost:8080/",
     "height": 34
    },
    "colab_type": "code",
    "id": "eglmdXnGcEfX",
    "outputId": "46ab2c6d-a12d-433f-c381-d9741a0c154a"
   },
   "outputs": [
    {
     "data": {
      "text/html": [
       "<style>\n",
       ".list-inline {list-style: none; margin:0; padding: 0}\n",
       ".list-inline>li {display: inline-block}\n",
       ".list-inline>li:not(:last-child)::after {content: \"\\00b7\"; padding: 0 .5ex}\n",
       "</style>\n",
       "<ol class=list-inline><li>2</li><li>4</li><li>6</li><li>8</li><li>10</li></ol>\n"
      ],
      "text/latex": [
       "\\begin{enumerate*}\n",
       "\\item 2\n",
       "\\item 4\n",
       "\\item 6\n",
       "\\item 8\n",
       "\\item 10\n",
       "\\end{enumerate*}\n"
      ],
      "text/markdown": [
       "1. 2\n",
       "2. 4\n",
       "3. 6\n",
       "4. 8\n",
       "5. 10\n",
       "\n",
       "\n"
      ],
      "text/plain": [
       "[1]  2  4  6  8 10"
      ]
     },
     "metadata": {
      "tags": []
     },
     "output_type": "display_data"
    }
   ],
   "source": [
    "x <- seq(1,10)\n",
    "x[(x%%2) == 0] # get the even numbers from a vector"
   ]
  },
  {
   "cell_type": "markdown",
   "metadata": {
    "colab_type": "text",
    "id": "v1YjVWzTcEfa"
   },
   "source": [
    "* Calculations with vectors: max(x), min(x), range(x), length(x), sum(x), mean(x), prod(x) (product of the elements in x), sd(x) (standard deviation), var(x) (variance), sort(x)"
   ]
  },
  {
   "cell_type": "code",
   "execution_count": null,
   "metadata": {
    "colab": {
     "base_uri": "https://localhost:8080/",
     "height": 34
    },
    "colab_type": "code",
    "id": "0g4cBLPtcEfb",
    "outputId": "1600de7f-4934-4245-f6b7-971f42fdb332"
   },
   "outputs": [
    {
     "data": {
      "text/html": [
       "26.75"
      ],
      "text/latex": [
       "26.75"
      ],
      "text/markdown": [
       "26.75"
      ],
      "text/plain": [
       "[1] 26.75"
      ]
     },
     "metadata": {
      "tags": []
     },
     "output_type": "display_data"
    }
   ],
   "source": [
    "my_vector <- c(27, 25, 29, 26)\n",
    "mean(my_vector)"
   ]
  },
  {
   "cell_type": "markdown",
   "metadata": {
    "colab_type": "text",
    "id": "ztK6449BcEfd"
   },
   "source": [
    "* Case of missing values: NA (not available) and NaN (not a number)"
   ]
  },
  {
   "cell_type": "code",
   "execution_count": null,
   "metadata": {
    "colab": {
     "base_uri": "https://localhost:8080/",
     "height": 34
    },
    "colab_type": "code",
    "id": "iQJ9u2h2cEfe",
    "outputId": "2e7e2f39-6c1c-4f45-c9ef-ff1ebb15857c"
   },
   "outputs": [
    {
     "data": {
      "text/html": [
       "&lt;NA&gt;"
      ],
      "text/latex": [
       "<NA>"
      ],
      "text/markdown": [
       "&lt;NA&gt;"
      ],
      "text/plain": [
       "[1] NA"
      ]
     },
     "metadata": {
      "tags": []
     },
     "output_type": "display_data"
    }
   ],
   "source": [
    "(NA_vector <- c(NA))"
   ]
  },
  {
   "cell_type": "code",
   "execution_count": null,
   "metadata": {
    "colab": {
     "base_uri": "https://localhost:8080/",
     "height": 34
    },
    "colab_type": "code",
    "id": "5UeR--ZJcEfh",
    "outputId": "8a22ded1-af2e-4fde-caed-4e63eafb7f7d"
   },
   "outputs": [
    {
     "data": {
      "text/html": [
       "NaN"
      ],
      "text/latex": [
       "NaN"
      ],
      "text/markdown": [
       "NaN"
      ],
      "text/plain": [
       "[1] NaN"
      ]
     },
     "metadata": {
      "tags": []
     },
     "output_type": "display_data"
    }
   ],
   "source": [
    "(NaN_vector <- c(NaN)) # Example: 1/0, log(0), etc."
   ]
  },
  {
   "cell_type": "markdown",
   "metadata": {
    "colab_type": "text",
    "id": "wsefqmV8cEfj"
   },
   "source": [
    "### Matrices"
   ]
  },
  {
   "cell_type": "markdown",
   "metadata": {
    "colab_type": "text",
    "id": "adHkjECrcEfk"
   },
   "source": [
    "* Matrices in R are objects of the same type. A matrix can be created with a function: matrix(data, nrow, ncol, byrow, dimnames)"
   ]
  },
  {
   "cell_type": "code",
   "execution_count": null,
   "metadata": {
    "colab": {
     "base_uri": "https://localhost:8080/"
    },
    "colab_type": "code",
    "id": "XHxyZ5EqcEfk",
    "outputId": "41992c3e-b3c2-41bd-c1ba-409f4c81ad49"
   },
   "outputs": [
    {
     "data": {
      "text/html": [
       "<table class=\"dataframe\">\n",
       "<caption>A matrix: 4 × 5 of type int</caption>\n",
       "<tbody>\n",
       "\t<tr><td>1</td><td>5</td><td> 9</td><td>13</td><td>17</td></tr>\n",
       "\t<tr><td>2</td><td>6</td><td>10</td><td>14</td><td>18</td></tr>\n",
       "\t<tr><td>3</td><td>7</td><td>11</td><td>15</td><td>19</td></tr>\n",
       "\t<tr><td>4</td><td>8</td><td>12</td><td>16</td><td>20</td></tr>\n",
       "</tbody>\n",
       "</table>\n"
      ],
      "text/latex": [
       "A matrix: 4 × 5 of type int\n",
       "\\begin{tabular}{lllll}\n",
       "\t 1 & 5 &  9 & 13 & 17\\\\\n",
       "\t 2 & 6 & 10 & 14 & 18\\\\\n",
       "\t 3 & 7 & 11 & 15 & 19\\\\\n",
       "\t 4 & 8 & 12 & 16 & 20\\\\\n",
       "\\end{tabular}\n"
      ],
      "text/markdown": [
       "\n",
       "A matrix: 4 × 5 of type int\n",
       "\n",
       "| 1 | 5 |  9 | 13 | 17 |\n",
       "| 2 | 6 | 10 | 14 | 18 |\n",
       "| 3 | 7 | 11 | 15 | 19 |\n",
       "| 4 | 8 | 12 | 16 | 20 |\n",
       "\n"
      ],
      "text/plain": [
       "     [,1] [,2] [,3] [,4] [,5]\n",
       "[1,] 1    5     9   13   17  \n",
       "[2,] 2    6    10   14   18  \n",
       "[3,] 3    7    11   15   19  \n",
       "[4,] 4    8    12   16   20  "
      ]
     },
     "metadata": {
      "tags": []
     },
     "output_type": "display_data"
    }
   ],
   "source": [
    "# Elements are arranged sequentially by column.\n",
    "(N <- matrix(seq(1,20), nrow = 4, byrow = FALSE))"
   ]
  },
  {
   "cell_type": "markdown",
   "metadata": {
    "colab_type": "text",
    "id": "_BTJoobAcEfn"
   },
   "source": [
    "* Check and convert: is.matrix(), as.matrix()"
   ]
  },
  {
   "cell_type": "markdown",
   "metadata": {
    "colab_type": "text",
    "id": "rCUJHGBjcEfn"
   },
   "source": [
    "* Transpose a matrix: t()"
   ]
  },
  {
   "cell_type": "markdown",
   "metadata": {
    "colab_type": "text",
    "id": "vnfPfad9cEfo"
   },
   "source": [
    "* Dimensions of a matrix: ncol(), nrow(), dim()"
   ]
  },
  {
   "cell_type": "markdown",
   "metadata": {
    "colab_type": "text",
    "id": "9yhbXMyxcEfo"
   },
   "source": [
    "* Get a subset of a matrix: my_data[row, col]"
   ]
  },
  {
   "cell_type": "code",
   "execution_count": null,
   "metadata": {
    "colab": {
     "base_uri": "https://localhost:8080/"
    },
    "colab_type": "code",
    "id": "GZ1oVAQScEfp",
    "outputId": "eb29bb86-404c-4ef1-c181-a1c2be7a4315"
   },
   "outputs": [
    {
     "data": {
      "text/html": [
       "14"
      ],
      "text/latex": [
       "14"
      ],
      "text/markdown": [
       "14"
      ],
      "text/plain": [
       "[1] 14"
      ]
     },
     "metadata": {
      "tags": []
     },
     "output_type": "display_data"
    }
   ],
   "source": [
    "N[2,4] # the element in 2nd row and 4th column."
   ]
  },
  {
   "cell_type": "code",
   "execution_count": null,
   "metadata": {
    "colab": {
     "base_uri": "https://localhost:8080/"
    },
    "colab_type": "code",
    "id": "1OL-sC5VcEfs",
    "outputId": "333daff5-67e5-4fff-9a7d-4d21dfeaf381"
   },
   "outputs": [
    {
     "data": {
      "text/html": [
       "<style>\n",
       ".list-inline {list-style: none; margin:0; padding: 0}\n",
       ".list-inline>li {display: inline-block}\n",
       ".list-inline>li:not(:last-child)::after {content: \"\\00b7\"; padding: 0 .5ex}\n",
       "</style>\n",
       "<ol class=list-inline><li>2</li><li>6</li><li>10</li><li>14</li><li>18</li></ol>\n"
      ],
      "text/latex": [
       "\\begin{enumerate*}\n",
       "\\item 2\n",
       "\\item 6\n",
       "\\item 10\n",
       "\\item 14\n",
       "\\item 18\n",
       "\\end{enumerate*}\n"
      ],
      "text/markdown": [
       "1. 2\n",
       "2. 6\n",
       "3. 10\n",
       "4. 14\n",
       "5. 18\n",
       "\n",
       "\n"
      ],
      "text/plain": [
       "[1]  2  6 10 14 18"
      ]
     },
     "metadata": {
      "tags": []
     },
     "output_type": "display_data"
    }
   ],
   "source": [
    "N[2, ] # the 2nd row."
   ]
  },
  {
   "cell_type": "code",
   "execution_count": null,
   "metadata": {
    "colab": {
     "base_uri": "https://localhost:8080/"
    },
    "colab_type": "code",
    "id": "Pb9E5-r7cEfv",
    "outputId": "4d1e8ea2-d233-4732-d29b-443626afed1a"
   },
   "outputs": [
    {
     "data": {
      "text/html": [
       "<table class=\"dataframe\">\n",
       "<caption>A matrix: 2 × 3 of type int</caption>\n",
       "<tbody>\n",
       "\t<tr><td> 9</td><td>13</td><td>17</td></tr>\n",
       "\t<tr><td>10</td><td>14</td><td>18</td></tr>\n",
       "</tbody>\n",
       "</table>\n"
      ],
      "text/latex": [
       "A matrix: 2 × 3 of type int\n",
       "\\begin{tabular}{lll}\n",
       "\t  9 & 13 & 17\\\\\n",
       "\t 10 & 14 & 18\\\\\n",
       "\\end{tabular}\n"
      ],
      "text/markdown": [
       "\n",
       "A matrix: 2 × 3 of type int\n",
       "\n",
       "|  9 | 13 | 17 |\n",
       "| 10 | 14 | 18 |\n",
       "\n"
      ],
      "text/plain": [
       "     [,1] [,2] [,3]\n",
       "[1,]  9   13   17  \n",
       "[2,] 10   14   18  "
      ]
     },
     "metadata": {
      "tags": []
     },
     "output_type": "display_data"
    }
   ],
   "source": [
    "(N[1:2, 3:5]) # Subset 1:2 row 3:5 column"
   ]
  },
  {
   "cell_type": "markdown",
   "metadata": {
    "colab_type": "text",
    "id": "0qJhv09BcEfx"
   },
   "source": [
    "* Calculations with numeric matrices: rowSums(), colSums(), rowMeans(), colMeans(), apply()"
   ]
  },
  {
   "cell_type": "markdown",
   "metadata": {
    "colab_type": "text",
    "id": "H9ph653NcEfy"
   },
   "source": [
    "* Matrix product: `%*%`"
   ]
  },
  {
   "cell_type": "markdown",
   "metadata": {
    "colab_type": "text",
    "id": "yp6j0HVocEfz"
   },
   "source": [
    "### **Data-frames**\n",
    "\n",
    "*   A data frame is a table or a 2D array-like structure, whose:\n",
    "Columns can store data of different types e.g. numeric, character etc.\n",
    "*   Each column must contain the same number of data items.\n",
    "*   The column names should be non-empty.\n",
    "*   The row names should be unique."
   ]
  },
  {
   "cell_type": "code",
   "execution_count": null,
   "metadata": {
    "colab": {
     "base_uri": "https://localhost:8080/"
    },
    "colab_type": "code",
    "id": "c7Ia57MYcEfz",
    "outputId": "d4bda671-88ec-4667-a857-9a13ca0fddc9"
   },
   "outputs": [
    {
     "name": "stdout",
     "output_type": "stream",
     "text": [
      "       name salary start_date\n",
      "E1     Rick 623.30 2012-01-01\n",
      "E2      Dan 515.20 2013-09-23\n",
      "E3 Michelle 611.00 2014-11-15\n",
      "E4     Ryan 729.00 2014-05-11\n",
      "E5     Gary 843.25 2015-03-27\n"
     ]
    }
   ],
   "source": [
    "# Create the data frame.\n",
    "employees <- data.frame(\n",
    "row.names = c(\"E1\",\"E2\",\"E3\",\"E4\",\"E5\"),\n",
    "name = c(\"Rick\",\"Dan\",\"Michelle\",\"Ryan\",\"Gary\"),\n",
    "salary = c(623.3,515.2,611.0,729.0,843.25),\n",
    "start_date = as.Date(c(\"2012-01-01\",\"2013-09-23\",\"2014-11-15\",\"2014-05-11\",\"2015-03-27\")),stringsAsFactors = FALSE )\n",
    "# Print the data frame.\n",
    "print(employees)"
   ]
  },
  {
   "cell_type": "markdown",
   "metadata": {
    "colab_type": "text",
    "id": "ZEs3MB7scEf6"
   },
   "source": [
    "## Graphics in R\n",
    "\n",
    "### Basic graphs\n",
    "\n",
    "R is very convenient to generate figures. Here are some basic graphics functions in R."
   ]
  },
  {
   "cell_type": "code",
   "execution_count": null,
   "metadata": {
    "colab": {
     "base_uri": "https://localhost:8080/",
     "height": 437
    },
    "colab_type": "code",
    "id": "PYcJ6oz3cEf7",
    "outputId": "8a98ae66-1c7f-439e-a8aa-bfa70139f425"
   },
   "outputs": [
    {
     "data": {
      "image/png": "[encoded data removed]",
      "text/plain": [
       "plot without title"
      ]
     },
     "metadata": {
      "image/png": {
       "height": 420,
       "width": 420
      },
      "tags": []
     },
     "output_type": "display_data"
    }
   ],
   "source": [
    "data(iris)\n",
    "pairs(iris) # pairwise scatterplot"
   ]
  },
  {
   "cell_type": "code",
   "execution_count": null,
   "metadata": {
    "colab": {
     "base_uri": "https://localhost:8080/",
     "height": 437
    },
    "colab_type": "code",
    "id": "50a1wQTwcEf9",
    "outputId": "83a9f2a8-3acc-4ef6-c327-38adec137f21"
   },
   "outputs": [
    {
     "data": {
      "image/png": "[encoded data removed]",
      "text/plain": [
       "Plot with title “Histogram of iris$Sepal.Length”"
      ]
     },
     "metadata": {
      "image/png": {
       "height": 420,
       "width": 420
      },
      "tags": []
     },
     "output_type": "display_data"
    }
   ],
   "source": [
    "hist(iris$Sepal.Length)"
   ]
  },
  {
   "cell_type": "code",
   "execution_count": null,
   "metadata": {
    "colab": {
     "base_uri": "https://localhost:8080/",
     "height": 857
    },
    "colab_type": "code",
    "id": "aJXCxXMUcEgA",
    "outputId": "38951e4b-4c8d-46ef-8295-789f25f81a21"
   },
   "outputs": [
    {
     "data": {
      "image/png": "[encoded data removed]",
      "text/plain": [
       "plot without title"
      ]
     },
     "metadata": {
      "image/png": {
       "height": 420,
       "width": 420
      },
      "tags": []
     },
     "output_type": "display_data"
    },
    {
     "data": {
      "image/png": "[encoded data removed]",
      "text/plain": [
       "plot without title"
      ]
     },
     "metadata": {
      "image/png": {
       "height": 420,
       "width": 420
      },
      "tags": []
     },
     "output_type": "display_data"
    }
   ],
   "source": [
    "boxplot(iris$Sepal.Length)\n",
    "boxplot(iris)"
   ]
  },
  {
   "cell_type": "code",
   "execution_count": null,
   "metadata": {
    "colab": {
     "base_uri": "https://localhost:8080/",
     "height": 437
    },
    "colab_type": "code",
    "id": "OVKmupPJcEgC",
    "outputId": "c95f3026-ff3a-480f-a877-56d27c49ed1d"
   },
   "outputs": [
    {
     "data": {
      "image/png": "[encoded data removed]",
      "text/plain": [
       "Plot with title “Test plot”"
      ]
     },
     "metadata": {
      "image/png": {
       "height": 420,
       "width": 420
      },
      "tags": []
     },
     "output_type": "display_data"
    }
   ],
   "source": [
    "# use plot to get the tendency between two data sets\n",
    "set.seed(100)\n",
    "x <- runif(10)\n",
    "y <- runif(10)\n",
    "plot(x,y,type=\"p\",main=\"Test plot\",col=\"blue\",\n",
    " xlim=c(0,1),ylim=c(0,1),xlab=\"X-axis\",\n",
    " ylab=\"Y-axis\",pch=20)\n",
    "points(y/2,x/2,col=\"red\",pch=1:10)\n",
    "lines(y[1:2],x[1:2],col=\"purple\")\n",
    "abline(v=0.5,col=\"green\")\n",
    "abline(h=0.5,col=\"green\",lty=2) # lty: the line type\n",
    "abline(a=0,b=1,col=\"green\",lwd=5) # a:intercept, b:slope, lwd: the line width"
   ]
  },
  {
   "cell_type": "markdown",
   "metadata": {
    "colab_type": "text",
    "id": "1ghPKdqucEgE"
   },
   "source": [
    "### **ggplot2** package\n",
    "\n",
    "The library ggplot2 offers a plotting system with substantial capabilities and nicer graphics than the base plotting functions.\n"
   ]
  },
  {
   "cell_type": "code",
   "execution_count": null,
   "metadata": {
    "colab": {},
    "colab_type": "code",
    "id": "0sm-TfOXcEgF"
   },
   "outputs": [],
   "source": [
    "# install.packages(\"ggplot2\") \n",
    "# if you don't have this package, you need to install it.\n",
    "library(ggplot2)"
   ]
  },
  {
   "cell_type": "markdown",
   "metadata": {
    "colab_type": "text",
    "id": "OBtxzJOycEgH"
   },
   "source": [
    "or"
   ]
  },
  {
   "cell_type": "code",
   "execution_count": null,
   "metadata": {
    "colab": {
     "base_uri": "https://localhost:8080/"
    },
    "colab_type": "code",
    "id": "ce23N0cecEgI",
    "outputId": "ecb33a75-67e1-4a82-b453-66ce63828a43"
   },
   "outputs": [
    {
     "name": "stderr",
     "output_type": "stream",
     "text": [
      "── \u001b[1mAttaching packages\u001b[22m ─────────────────────────────────────── tidyverse 1.3.0 ──\n",
      "\n",
      "\u001b[32m✔\u001b[39m \u001b[34mtibble \u001b[39m 3.0.3     \u001b[32m✔\u001b[39m \u001b[34mdplyr  \u001b[39m 1.0.2\n",
      "\u001b[32m✔\u001b[39m \u001b[34mtidyr  \u001b[39m 1.1.1     \u001b[32m✔\u001b[39m \u001b[34mstringr\u001b[39m 1.4.0\n",
      "\u001b[32m✔\u001b[39m \u001b[34mreadr  \u001b[39m 1.3.1     \u001b[32m✔\u001b[39m \u001b[34mforcats\u001b[39m 0.5.0\n",
      "\u001b[32m✔\u001b[39m \u001b[34mpurrr  \u001b[39m 0.3.4     \n",
      "\n",
      "── \u001b[1mConflicts\u001b[22m ────────────────────────────────────────── tidyverse_conflicts() ──\n",
      "\u001b[31m✖\u001b[39m \u001b[34mdplyr\u001b[39m::\u001b[32mfilter()\u001b[39m masks \u001b[34mstats\u001b[39m::filter()\n",
      "\u001b[31m✖\u001b[39m \u001b[34mdplyr\u001b[39m::\u001b[32mlag()\u001b[39m    masks \u001b[34mstats\u001b[39m::lag()\n",
      "\n"
     ]
    }
   ],
   "source": [
    "library(tidyverse)"
   ]
  },
  {
   "cell_type": "markdown",
   "metadata": {
    "colab_type": "text",
    "id": "nsrqKeGHcEgL"
   },
   "source": [
    "## **Buliding block of ggplot2 graphical objects**\n",
    "\n",
    "*   data\n",
    "*   aesthetic mapping\n",
    "*   geometric objects\n",
    "*   statistical transformaons\n",
    "*   facets\n",
    "*   scales\n",
    "*   coordinate system\n",
    "*   positioning adjustment"
   ]
  },
  {
   "cell_type": "markdown",
   "metadata": {
    "colab_type": "text",
    "id": "c7uHvvh1cEgM"
   },
   "source": [
    "**Aesthetic Mapping**: something you can see, for example, position, color, fill, shape, linetype, size and so on. Aesthetic mappings are set with the aes() function.\n",
    "\n",
    "**Geometic Objects**: the actual marks we put on a plot, for example, points(geom_point), lines(geom_line), histograms(geom_histogram)."
   ]
  },
  {
   "cell_type": "markdown",
   "metadata": {
    "colab_type": "text",
    "id": "PEnsbObecEgM"
   },
   "source": [
    "```\n",
    "ggplot(data = <DATA>) +\n",
    "GEOM_FUNCTION(\n",
    "mapping = aes(<mappings>),\n",
    "stat = <statistic transformation>,\n",
    "position = <position options>,\n",
    "color = <fixed color>,\n",
    "<other arguments>) +\n",
    "FACET_FUNCTION(<facet options>) +\n",
    "SCALE_FUNCTION(<scale options>) +\n",
    "theme(<theme elements>)\n",
    "```\n",
    "\n",
    "#### Examples:"
   ]
  },
  {
   "cell_type": "code",
   "execution_count": null,
   "metadata": {
    "colab": {
     "base_uri": "https://localhost:8080/",
     "height": 425
    },
    "colab_type": "code",
    "id": "vVzXajs6cEgM",
    "outputId": "e5648525-fc03-4250-b8d2-249323d3d28b"
   },
   "outputs": [
    {
     "data": {
      "text/plain": [
       "     carat               cut      color      clarity        depth      \n",
       " Min.   :0.2100   Fair     : 29   D:116   SI1    :258   Min.   :55.30  \n",
       " 1st Qu.:0.4000   Good     : 76   E:187   VS2    :209   1st Qu.:61.10  \n",
       " Median :0.7100   Very Good:241   F:182   SI2    :176   Median :61.90  \n",
       " Mean   :0.8233   Premium  :243   G:205   VS1    :151   Mean   :61.77  \n",
       " 3rd Qu.:1.1025   Ideal    :411   H:162   VVS2   :101   3rd Qu.:62.50  \n",
       " Max.   :2.7400                   I: 90   VVS1   : 67   Max.   :68.40  \n",
       "                                  J: 58   (Other): 38                  \n",
       "     table           price               x               y        \n",
       " Min.   :52.00   Min.   :  354.0   Min.   :3.820   Min.   :3.780  \n",
       " 1st Qu.:56.00   1st Qu.:  976.2   1st Qu.:4.720   1st Qu.:4.720  \n",
       " Median :57.00   Median : 2483.5   Median :5.710   Median :5.740  \n",
       " Mean   :57.35   Mean   : 4214.1   Mean   :5.782   Mean   :5.783  \n",
       " 3rd Qu.:59.00   3rd Qu.: 6073.8   3rd Qu.:6.652   3rd Qu.:6.650  \n",
       " Max.   :66.00   Max.   :18795.0   Max.   :8.880   Max.   :8.840  \n",
       "                                                                  \n",
       "       z        \n",
       " Min.   :0.000  \n",
       " 1st Qu.:2.917  \n",
       " Median :3.540  \n",
       " Mean   :3.567  \n",
       " 3rd Qu.:4.100  \n",
       " Max.   :5.610  \n",
       "                "
      ]
     },
     "metadata": {
      "tags": []
     },
     "output_type": "display_data"
    }
   ],
   "source": [
    "# here is data contained in tidyverse library\n",
    "dsmall <- sample_n(diamonds, 1000)\n",
    "summary(dsmall)"
   ]
  },
  {
   "cell_type": "markdown",
   "metadata": {
    "colab_type": "text",
    "id": "HJ5xsOGqcEgQ"
   },
   "source": [
    "A plot must have at least one geometric object. "
   ]
  },
  {
   "cell_type": "code",
   "execution_count": null,
   "metadata": {
    "colab": {
     "base_uri": "https://localhost:8080/",
     "height": 437
    },
    "colab_type": "code",
    "id": "AndSId6VcEgQ",
    "outputId": "d78037cc-7288-45c0-ac4f-e2a8bae6f570"
   },
   "outputs": [
    {
     "data": {
      "image/png": "[encoded data removed]",
      "text/plain": [
       "plot without title"
      ]
     },
     "metadata": {
      "image/png": {
       "height": 420,
       "width": 420
      },
      "tags": []
     },
     "output_type": "display_data"
    }
   ],
   "source": [
    "# Scatter plots\n",
    "p <- ggplot(dsmall, aes(x = carat, y = price))\n",
    "p + geom_point()"
   ]
  },
  {
   "cell_type": "code",
   "execution_count": null,
   "metadata": {
    "colab": {
     "base_uri": "https://localhost:8080/",
     "height": 437
    },
    "colab_type": "code",
    "id": "cclW0B4ycEgU",
    "outputId": "149ba757-34cf-4b7c-9a60-18e836047c56"
   },
   "outputs": [
    {
     "data": {
      "image/png": "[encoded data removed]",
      "text/plain": [
       "plot without title"
      ]
     },
     "metadata": {
      "image/png": {
       "height": 420,
       "width": 420
      },
      "tags": []
     },
     "output_type": "display_data"
    }
   ],
   "source": [
    "# color by diamonds clarity\n",
    "ggplot(dsmall, aes(x = carat, y = price)) +\n",
    "geom_point(aes(color = clarity))"
   ]
  },
  {
   "cell_type": "code",
   "execution_count": null,
   "metadata": {
    "colab": {
     "base_uri": "https://localhost:8080/",
     "height": 437
    },
    "colab_type": "code",
    "id": "0eAbalpucEgX",
    "outputId": "01c30ce7-d8bf-462a-f3dc-8fb1ef37826c"
   },
   "outputs": [
    {
     "data": {
      "image/png": "[encoded data removed]",
      "text/plain": [
       "plot without title"
      ]
     },
     "metadata": {
      "image/png": {
       "height": 420,
       "width": 420
      },
      "tags": []
     },
     "output_type": "display_data"
    }
   ],
   "source": [
    "# replace the point by text label\n",
    "plog <- ggplot(\n",
    "dsmall,\n",
    "aes(x = log10(carat), y = log10(price)))\n",
    "plog + geom_text(aes(label = clarity))"
   ]
  },
  {
   "cell_type": "markdown",
   "metadata": {
    "colab_type": "text",
    "id": "NSexZkDPcEgZ"
   },
   "source": [
    "You can also change the size of the point or the shape of the point etc."
   ]
  },
  {
   "cell_type": "markdown",
   "metadata": {
    "colab_type": "text",
    "id": "-WBLHXpWcEgZ"
   },
   "source": [
    "You can also scale the axies."
   ]
  },
  {
   "cell_type": "code",
   "execution_count": null,
   "metadata": {
    "colab": {
     "base_uri": "https://localhost:8080/",
     "height": 437
    },
    "colab_type": "code",
    "id": "Hocy2c0BcEgZ",
    "outputId": "702a8432-cb50-40f0-c14a-b34485234471"
   },
   "outputs": [
    {
     "data": {
      "image/png": "[encoded data removed]",
      "text/plain": [
       "plot without title"
      ]
     },
     "metadata": {
      "image/png": {
       "height": 420,
       "width": 420
      },
      "tags": []
     },
     "output_type": "display_data"
    }
   ],
   "source": [
    "# Square root y-axis transformation\n",
    "p1 <- ggplot(dsmall, aes(x = carat, y = price))\n",
    "psqrt <- p1 + geom_point() + scale_y_sqrt()\n",
    "psqrt"
   ]
  },
  {
   "cell_type": "markdown",
   "metadata": {
    "colab_type": "text",
    "id": "DmR_-8yXcEgc"
   },
   "source": [
    "After creating your basic graph, what if you want to add a title, adjust the size of text?"
   ]
  },
  {
   "cell_type": "code",
   "execution_count": null,
   "metadata": {
    "colab": {},
    "colab_type": "code",
    "id": "i0r8FIxUcEgc"
   },
   "outputs": [],
   "source": [
    "data_crime = read.table(\"/content/city_crime.txt\", header = TRUE)\n",
    "#crime_plot <- ggplot(data = data_crime) + geom_point(aes(x = Robbery, y = Assault, color = Murder))\n",
    "#crime_plot <- crime_plot + labs(title = \"Crime\", x = 'Robbery', y = 'Assualt') \n",
    "#crime_plot"
   ]
  },
  {
   "cell_type": "code",
   "execution_count": null,
   "metadata": {
    "colab": {},
    "colab_type": "code",
    "id": "w92BfH2xcEgf"
   },
   "outputs": [],
   "source": [
    "#crime_plot + theme(text = element_text(size=20))\n",
    "# just change size of title\n",
    "#crime_plot + theme(plot.title = element_text(size = 20))"
   ]
  },
  {
   "cell_type": "code",
   "execution_count": null,
   "metadata": {
    "colab": {},
    "colab_type": "code",
    "id": "hSCvgVeKcEgh"
   },
   "outputs": [],
   "source": [
    "# annotate our graph\n",
    "#crime_plot + geom_abline(intercept = 1500, slope = -0.5) + \n",
    "  #geom_text(aes(x = c(1500), y = c(800), label = c('separating hyperplane')), size = 5)"
   ]
  },
  {
   "cell_type": "markdown",
   "metadata": {
    "colab_type": "text",
    "id": "eNf8eKeicEgk"
   },
   "source": [
    "Pairs plots are useful to visualize multiple variables at the same time. The base function is `pairs`, but if you are using ggplot package instead you can use `ggpairs`."
   ]
  },
  {
   "cell_type": "markdown",
   "metadata": {
    "colab_type": "text",
    "id": "mC6oYqaJcEgk"
   },
   "source": [
    "#### 3D plots\n",
    "\n",
    "Sometimes it is useful to create 3D plots to visualize multivariate data. The library **plotly** can do so."
   ]
  },
  {
   "cell_type": "markdown",
   "metadata": {
    "colab_type": "text",
    "id": "93B7WjPscEgl"
   },
   "source": [
    "`\n",
    "library(plotly)\n",
    "p = plot_ly(data_crime, x = ~Robbery, y = ~Assault, z = ~Murder,color=~Larceny)\n",
    "p\n",
    "`"
   ]
  },
  {
   "cell_type": "markdown",
   "metadata": {
    "colab_type": "text",
    "id": "hirRnvJqcEgl"
   },
   "source": [
    "## Data Manipulation\n",
    "\n",
    "### **What is tidying data**\n",
    "\n",
    "There are three interrelated rules which make a dataset tidy:\n",
    "\n",
    "*   Each variable must have its own column.\n",
    "*   Each observation must have its own row.\n",
    "*   Each value must have its own cell.\n",
    "\n",
    "Tidy data works well with R because R is a vectorized programming language. Data structures in R are built from vectors and R’s operations are optimized to work with vectors. Tidy data takes advantage of both of these traits.\n",
    "\n",
    "\n",
    "\n",
    "### Reshaping a dataset\n",
    "\n",
    "There are two formats that a dataset can be presented: long and wide. The functions `pivot_wider` and `pivot_longer` can modify from one format to another."
   ]
  },
  {
   "cell_type": "code",
   "execution_count": null,
   "metadata": {
    "colab": {
     "base_uri": "https://localhost:8080/",
     "height": 562
    },
    "colab_type": "code",
    "id": "T3KH9WoPcEgm",
    "outputId": "15c3a9d0-a95f-4fb9-ea42-b3d2e0d7461e"
   },
   "outputs": [
    {
     "data": {
      "text/html": [
       "<table class=\"dataframe\">\n",
       "<caption>A tibble: 15 × 5</caption>\n",
       "<thead>\n",
       "\t<tr><th scope=col>GEOID</th><th scope=col>NAME</th><th scope=col>variable</th><th scope=col>estimate</th><th scope=col>moe</th></tr>\n",
       "\t<tr><th scope=col>&lt;chr&gt;</th><th scope=col>&lt;chr&gt;</th><th scope=col>&lt;chr&gt;</th><th scope=col>&lt;dbl&gt;</th><th scope=col>&lt;dbl&gt;</th></tr>\n",
       "</thead>\n",
       "<tbody>\n",
       "\t<tr><td>01</td><td>Alabama    </td><td>income</td><td>24476</td><td>136</td></tr>\n",
       "\t<tr><td>01</td><td>Alabama    </td><td>rent  </td><td>  747</td><td>  3</td></tr>\n",
       "\t<tr><td>02</td><td>Alaska     </td><td>income</td><td>32940</td><td>508</td></tr>\n",
       "\t<tr><td>02</td><td>Alaska     </td><td>rent  </td><td> 1200</td><td> 13</td></tr>\n",
       "\t<tr><td>04</td><td>Arizona    </td><td>income</td><td>27517</td><td>148</td></tr>\n",
       "\t<tr><td>04</td><td>Arizona    </td><td>rent  </td><td>  972</td><td>  4</td></tr>\n",
       "\t<tr><td>05</td><td>Arkansas   </td><td>income</td><td>23789</td><td>165</td></tr>\n",
       "\t<tr><td>05</td><td>Arkansas   </td><td>rent  </td><td>  709</td><td>  5</td></tr>\n",
       "\t<tr><td>06</td><td>California </td><td>income</td><td>29454</td><td>109</td></tr>\n",
       "\t<tr><td>06</td><td>California </td><td>rent  </td><td> 1358</td><td>  3</td></tr>\n",
       "\t<tr><td>08</td><td>Colorado   </td><td>income</td><td>32401</td><td>109</td></tr>\n",
       "\t<tr><td>08</td><td>Colorado   </td><td>rent  </td><td> 1125</td><td>  5</td></tr>\n",
       "\t<tr><td>09</td><td>Connecticut</td><td>income</td><td>35326</td><td>195</td></tr>\n",
       "\t<tr><td>09</td><td>Connecticut</td><td>rent  </td><td> 1123</td><td>  5</td></tr>\n",
       "\t<tr><td>10</td><td>Delaware   </td><td>income</td><td>31560</td><td>247</td></tr>\n",
       "</tbody>\n",
       "</table>\n"
      ],
      "text/latex": [
       "A tibble: 15 × 5\n",
       "\\begin{tabular}{lllll}\n",
       " GEOID & NAME & variable & estimate & moe\\\\\n",
       " <chr> & <chr> & <chr> & <dbl> & <dbl>\\\\\n",
       "\\hline\n",
       "\t 01 & Alabama     & income & 24476 & 136\\\\\n",
       "\t 01 & Alabama     & rent   &   747 &   3\\\\\n",
       "\t 02 & Alaska      & income & 32940 & 508\\\\\n",
       "\t 02 & Alaska      & rent   &  1200 &  13\\\\\n",
       "\t 04 & Arizona     & income & 27517 & 148\\\\\n",
       "\t 04 & Arizona     & rent   &   972 &   4\\\\\n",
       "\t 05 & Arkansas    & income & 23789 & 165\\\\\n",
       "\t 05 & Arkansas    & rent   &   709 &   5\\\\\n",
       "\t 06 & California  & income & 29454 & 109\\\\\n",
       "\t 06 & California  & rent   &  1358 &   3\\\\\n",
       "\t 08 & Colorado    & income & 32401 & 109\\\\\n",
       "\t 08 & Colorado    & rent   &  1125 &   5\\\\\n",
       "\t 09 & Connecticut & income & 35326 & 195\\\\\n",
       "\t 09 & Connecticut & rent   &  1123 &   5\\\\\n",
       "\t 10 & Delaware    & income & 31560 & 247\\\\\n",
       "\\end{tabular}\n"
      ],
      "text/markdown": [
       "\n",
       "A tibble: 15 × 5\n",
       "\n",
       "| GEOID &lt;chr&gt; | NAME &lt;chr&gt; | variable &lt;chr&gt; | estimate &lt;dbl&gt; | moe &lt;dbl&gt; |\n",
       "|---|---|---|---|---|\n",
       "| 01 | Alabama     | income | 24476 | 136 |\n",
       "| 01 | Alabama     | rent   |   747 |   3 |\n",
       "| 02 | Alaska      | income | 32940 | 508 |\n",
       "| 02 | Alaska      | rent   |  1200 |  13 |\n",
       "| 04 | Arizona     | income | 27517 | 148 |\n",
       "| 04 | Arizona     | rent   |   972 |   4 |\n",
       "| 05 | Arkansas    | income | 23789 | 165 |\n",
       "| 05 | Arkansas    | rent   |   709 |   5 |\n",
       "| 06 | California  | income | 29454 | 109 |\n",
       "| 06 | California  | rent   |  1358 |   3 |\n",
       "| 08 | Colorado    | income | 32401 | 109 |\n",
       "| 08 | Colorado    | rent   |  1125 |   5 |\n",
       "| 09 | Connecticut | income | 35326 | 195 |\n",
       "| 09 | Connecticut | rent   |  1123 |   5 |\n",
       "| 10 | Delaware    | income | 31560 | 247 |\n",
       "\n"
      ],
      "text/plain": [
       "   GEOID NAME        variable estimate moe\n",
       "1  01    Alabama     income   24476    136\n",
       "2  01    Alabama     rent       747      3\n",
       "3  02    Alaska      income   32940    508\n",
       "4  02    Alaska      rent      1200     13\n",
       "5  04    Arizona     income   27517    148\n",
       "6  04    Arizona     rent       972      4\n",
       "7  05    Arkansas    income   23789    165\n",
       "8  05    Arkansas    rent       709      5\n",
       "9  06    California  income   29454    109\n",
       "10 06    California  rent      1358      3\n",
       "11 08    Colorado    income   32401    109\n",
       "12 08    Colorado    rent      1125      5\n",
       "13 09    Connecticut income   35326    195\n",
       "14 09    Connecticut rent      1123      5\n",
       "15 10    Delaware    income   31560    247"
      ]
     },
     "metadata": {
      "tags": []
     },
     "output_type": "display_data"
    }
   ],
   "source": [
    "head(us_rent_income, 15)"
   ]
  },
  {
   "cell_type": "code",
   "execution_count": null,
   "metadata": {
    "colab": {
     "base_uri": "https://localhost:8080/",
     "height": 1000
    },
    "colab_type": "code",
    "id": "K76g8uWRcEgq",
    "outputId": "0152164c-cf15-44f7-bbdc-c5f1c431d68c"
   },
   "outputs": [
    {
     "data": {
      "text/html": [
       "<table class=\"dataframe\">\n",
       "<caption>A tibble: 52 × 6</caption>\n",
       "<thead>\n",
       "\t<tr><th scope=col>GEOID</th><th scope=col>NAME</th><th scope=col>estimate_income</th><th scope=col>estimate_rent</th><th scope=col>moe_income</th><th scope=col>moe_rent</th></tr>\n",
       "\t<tr><th scope=col>&lt;chr&gt;</th><th scope=col>&lt;chr&gt;</th><th scope=col>&lt;dbl&gt;</th><th scope=col>&lt;dbl&gt;</th><th scope=col>&lt;dbl&gt;</th><th scope=col>&lt;dbl&gt;</th></tr>\n",
       "</thead>\n",
       "<tbody>\n",
       "\t<tr><td>01</td><td>Alabama             </td><td>24476</td><td> 747</td><td>136</td><td> 3</td></tr>\n",
       "\t<tr><td>02</td><td>Alaska              </td><td>32940</td><td>1200</td><td>508</td><td>13</td></tr>\n",
       "\t<tr><td>04</td><td>Arizona             </td><td>27517</td><td> 972</td><td>148</td><td> 4</td></tr>\n",
       "\t<tr><td>05</td><td>Arkansas            </td><td>23789</td><td> 709</td><td>165</td><td> 5</td></tr>\n",
       "\t<tr><td>06</td><td>California          </td><td>29454</td><td>1358</td><td>109</td><td> 3</td></tr>\n",
       "\t<tr><td>08</td><td>Colorado            </td><td>32401</td><td>1125</td><td>109</td><td> 5</td></tr>\n",
       "\t<tr><td>09</td><td>Connecticut         </td><td>35326</td><td>1123</td><td>195</td><td> 5</td></tr>\n",
       "\t<tr><td>10</td><td>Delaware            </td><td>31560</td><td>1076</td><td>247</td><td>10</td></tr>\n",
       "\t<tr><td>11</td><td>District of Columbia</td><td>43198</td><td>1424</td><td>681</td><td>17</td></tr>\n",
       "\t<tr><td>12</td><td>Florida             </td><td>25952</td><td>1077</td><td> 70</td><td> 3</td></tr>\n",
       "\t<tr><td>13</td><td>Georgia             </td><td>27024</td><td> 927</td><td>106</td><td> 3</td></tr>\n",
       "\t<tr><td>15</td><td>Hawaii              </td><td>32453</td><td>1507</td><td>218</td><td>18</td></tr>\n",
       "\t<tr><td>16</td><td>Idaho               </td><td>25298</td><td> 792</td><td>208</td><td> 7</td></tr>\n",
       "\t<tr><td>17</td><td>Illinois            </td><td>30684</td><td> 952</td><td> 83</td><td> 3</td></tr>\n",
       "\t<tr><td>18</td><td>Indiana             </td><td>27247</td><td> 782</td><td>117</td><td> 3</td></tr>\n",
       "\t<tr><td>19</td><td>Iowa                </td><td>30002</td><td> 740</td><td>143</td><td> 4</td></tr>\n",
       "\t<tr><td>20</td><td>Kansas              </td><td>29126</td><td> 801</td><td>208</td><td> 5</td></tr>\n",
       "\t<tr><td>21</td><td>Kentucky            </td><td>24702</td><td> 713</td><td>159</td><td> 4</td></tr>\n",
       "\t<tr><td>22</td><td>Louisiana           </td><td>25086</td><td> 825</td><td>155</td><td> 4</td></tr>\n",
       "\t<tr><td>23</td><td>Maine               </td><td>26841</td><td> 808</td><td>187</td><td> 7</td></tr>\n",
       "\t<tr><td>24</td><td>Maryland            </td><td>37147</td><td>1311</td><td>152</td><td> 5</td></tr>\n",
       "\t<tr><td>25</td><td>Massachusetts       </td><td>34498</td><td>1173</td><td>199</td><td> 5</td></tr>\n",
       "\t<tr><td>26</td><td>Michigan            </td><td>26987</td><td> 824</td><td> 82</td><td> 3</td></tr>\n",
       "\t<tr><td>27</td><td>Minnesota           </td><td>32734</td><td> 906</td><td>189</td><td> 4</td></tr>\n",
       "\t<tr><td>28</td><td>Mississippi         </td><td>22766</td><td> 740</td><td>194</td><td> 5</td></tr>\n",
       "\t<tr><td>29</td><td>Missouri            </td><td>26999</td><td> 784</td><td>113</td><td> 4</td></tr>\n",
       "\t<tr><td>30</td><td>Montana             </td><td>26249</td><td> 751</td><td>206</td><td> 9</td></tr>\n",
       "\t<tr><td>31</td><td>Nebraska            </td><td>30020</td><td> 773</td><td>146</td><td> 4</td></tr>\n",
       "\t<tr><td>32</td><td>Nevada              </td><td>29019</td><td>1017</td><td>213</td><td> 6</td></tr>\n",
       "\t<tr><td>33</td><td>New Hampshire       </td><td>33172</td><td>1052</td><td>387</td><td> 9</td></tr>\n",
       "\t<tr><td>34</td><td>New Jersey          </td><td>35075</td><td>1249</td><td>148</td><td> 4</td></tr>\n",
       "\t<tr><td>35</td><td>New Mexico          </td><td>24457</td><td> 809</td><td>214</td><td> 6</td></tr>\n",
       "\t<tr><td>36</td><td>New York            </td><td>31057</td><td>1194</td><td> 69</td><td> 3</td></tr>\n",
       "\t<tr><td>37</td><td>North Carolina      </td><td>26482</td><td> 844</td><td>111</td><td> 3</td></tr>\n",
       "\t<tr><td>38</td><td>North Dakota        </td><td>32336</td><td> 775</td><td>245</td><td> 9</td></tr>\n",
       "\t<tr><td>39</td><td>Ohio                </td><td>27435</td><td> 764</td><td> 94</td><td> 2</td></tr>\n",
       "\t<tr><td>40</td><td>Oklahoma            </td><td>26207</td><td> 766</td><td>101</td><td> 3</td></tr>\n",
       "\t<tr><td>41</td><td>Oregon              </td><td>27389</td><td> 988</td><td>146</td><td> 4</td></tr>\n",
       "\t<tr><td>42</td><td>Pennsylvania        </td><td>28923</td><td> 885</td><td>119</td><td> 3</td></tr>\n",
       "\t<tr><td>44</td><td>Rhode Island        </td><td>30210</td><td> 957</td><td>259</td><td> 6</td></tr>\n",
       "\t<tr><td>45</td><td>South Carolina      </td><td>25454</td><td> 836</td><td>123</td><td> 4</td></tr>\n",
       "\t<tr><td>46</td><td>South Dakota        </td><td>28821</td><td> 696</td><td>276</td><td> 7</td></tr>\n",
       "\t<tr><td>47</td><td>Tennessee           </td><td>25453</td><td> 808</td><td>102</td><td> 4</td></tr>\n",
       "\t<tr><td>48</td><td>Texas               </td><td>28063</td><td> 952</td><td>110</td><td> 2</td></tr>\n",
       "\t<tr><td>49</td><td>Utah                </td><td>27928</td><td> 948</td><td>239</td><td> 6</td></tr>\n",
       "\t<tr><td>50</td><td>Vermont             </td><td>29351</td><td> 945</td><td>361</td><td>11</td></tr>\n",
       "\t<tr><td>51</td><td>Virginia            </td><td>32545</td><td>1166</td><td>202</td><td> 5</td></tr>\n",
       "\t<tr><td>53</td><td>Washington          </td><td>32318</td><td>1120</td><td>113</td><td> 4</td></tr>\n",
       "\t<tr><td>54</td><td>West Virginia       </td><td>23707</td><td> 681</td><td>203</td><td> 6</td></tr>\n",
       "\t<tr><td>55</td><td>Wisconsin           </td><td>29868</td><td> 813</td><td>135</td><td> 3</td></tr>\n",
       "\t<tr><td>56</td><td>Wyoming             </td><td>30854</td><td> 828</td><td>342</td><td>11</td></tr>\n",
       "\t<tr><td>72</td><td>Puerto Rico         </td><td>   NA</td><td> 464</td><td> NA</td><td> 6</td></tr>\n",
       "</tbody>\n",
       "</table>\n"
      ],
      "text/latex": [
       "A tibble: 52 × 6\n",
       "\\begin{tabular}{llllll}\n",
       " GEOID & NAME & estimate\\_income & estimate\\_rent & moe\\_income & moe\\_rent\\\\\n",
       " <chr> & <chr> & <dbl> & <dbl> & <dbl> & <dbl>\\\\\n",
       "\\hline\n",
       "\t 01 & Alabama              & 24476 &  747 & 136 &  3\\\\\n",
       "\t 02 & Alaska               & 32940 & 1200 & 508 & 13\\\\\n",
       "\t 04 & Arizona              & 27517 &  972 & 148 &  4\\\\\n",
       "\t 05 & Arkansas             & 23789 &  709 & 165 &  5\\\\\n",
       "\t 06 & California           & 29454 & 1358 & 109 &  3\\\\\n",
       "\t 08 & Colorado             & 32401 & 1125 & 109 &  5\\\\\n",
       "\t 09 & Connecticut          & 35326 & 1123 & 195 &  5\\\\\n",
       "\t 10 & Delaware             & 31560 & 1076 & 247 & 10\\\\\n",
       "\t 11 & District of Columbia & 43198 & 1424 & 681 & 17\\\\\n",
       "\t 12 & Florida              & 25952 & 1077 &  70 &  3\\\\\n",
       "\t 13 & Georgia              & 27024 &  927 & 106 &  3\\\\\n",
       "\t 15 & Hawaii               & 32453 & 1507 & 218 & 18\\\\\n",
       "\t 16 & Idaho                & 25298 &  792 & 208 &  7\\\\\n",
       "\t 17 & Illinois             & 30684 &  952 &  83 &  3\\\\\n",
       "\t 18 & Indiana              & 27247 &  782 & 117 &  3\\\\\n",
       "\t 19 & Iowa                 & 30002 &  740 & 143 &  4\\\\\n",
       "\t 20 & Kansas               & 29126 &  801 & 208 &  5\\\\\n",
       "\t 21 & Kentucky             & 24702 &  713 & 159 &  4\\\\\n",
       "\t 22 & Louisiana            & 25086 &  825 & 155 &  4\\\\\n",
       "\t 23 & Maine                & 26841 &  808 & 187 &  7\\\\\n",
       "\t 24 & Maryland             & 37147 & 1311 & 152 &  5\\\\\n",
       "\t 25 & Massachusetts        & 34498 & 1173 & 199 &  5\\\\\n",
       "\t 26 & Michigan             & 26987 &  824 &  82 &  3\\\\\n",
       "\t 27 & Minnesota            & 32734 &  906 & 189 &  4\\\\\n",
       "\t 28 & Mississippi          & 22766 &  740 & 194 &  5\\\\\n",
       "\t 29 & Missouri             & 26999 &  784 & 113 &  4\\\\\n",
       "\t 30 & Montana              & 26249 &  751 & 206 &  9\\\\\n",
       "\t 31 & Nebraska             & 30020 &  773 & 146 &  4\\\\\n",
       "\t 32 & Nevada               & 29019 & 1017 & 213 &  6\\\\\n",
       "\t 33 & New Hampshire        & 33172 & 1052 & 387 &  9\\\\\n",
       "\t 34 & New Jersey           & 35075 & 1249 & 148 &  4\\\\\n",
       "\t 35 & New Mexico           & 24457 &  809 & 214 &  6\\\\\n",
       "\t 36 & New York             & 31057 & 1194 &  69 &  3\\\\\n",
       "\t 37 & North Carolina       & 26482 &  844 & 111 &  3\\\\\n",
       "\t 38 & North Dakota         & 32336 &  775 & 245 &  9\\\\\n",
       "\t 39 & Ohio                 & 27435 &  764 &  94 &  2\\\\\n",
       "\t 40 & Oklahoma             & 26207 &  766 & 101 &  3\\\\\n",
       "\t 41 & Oregon               & 27389 &  988 & 146 &  4\\\\\n",
       "\t 42 & Pennsylvania         & 28923 &  885 & 119 &  3\\\\\n",
       "\t 44 & Rhode Island         & 30210 &  957 & 259 &  6\\\\\n",
       "\t 45 & South Carolina       & 25454 &  836 & 123 &  4\\\\\n",
       "\t 46 & South Dakota         & 28821 &  696 & 276 &  7\\\\\n",
       "\t 47 & Tennessee            & 25453 &  808 & 102 &  4\\\\\n",
       "\t 48 & Texas                & 28063 &  952 & 110 &  2\\\\\n",
       "\t 49 & Utah                 & 27928 &  948 & 239 &  6\\\\\n",
       "\t 50 & Vermont              & 29351 &  945 & 361 & 11\\\\\n",
       "\t 51 & Virginia             & 32545 & 1166 & 202 &  5\\\\\n",
       "\t 53 & Washington           & 32318 & 1120 & 113 &  4\\\\\n",
       "\t 54 & West Virginia        & 23707 &  681 & 203 &  6\\\\\n",
       "\t 55 & Wisconsin            & 29868 &  813 & 135 &  3\\\\\n",
       "\t 56 & Wyoming              & 30854 &  828 & 342 & 11\\\\\n",
       "\t 72 & Puerto Rico          &    NA &  464 &  NA &  6\\\\\n",
       "\\end{tabular}\n"
      ],
      "text/markdown": [
       "\n",
       "A tibble: 52 × 6\n",
       "\n",
       "| GEOID &lt;chr&gt; | NAME &lt;chr&gt; | estimate_income &lt;dbl&gt; | estimate_rent &lt;dbl&gt; | moe_income &lt;dbl&gt; | moe_rent &lt;dbl&gt; |\n",
       "|---|---|---|---|---|---|\n",
       "| 01 | Alabama              | 24476 |  747 | 136 |  3 |\n",
       "| 02 | Alaska               | 32940 | 1200 | 508 | 13 |\n",
       "| 04 | Arizona              | 27517 |  972 | 148 |  4 |\n",
       "| 05 | Arkansas             | 23789 |  709 | 165 |  5 |\n",
       "| 06 | California           | 29454 | 1358 | 109 |  3 |\n",
       "| 08 | Colorado             | 32401 | 1125 | 109 |  5 |\n",
       "| 09 | Connecticut          | 35326 | 1123 | 195 |  5 |\n",
       "| 10 | Delaware             | 31560 | 1076 | 247 | 10 |\n",
       "| 11 | District of Columbia | 43198 | 1424 | 681 | 17 |\n",
       "| 12 | Florida              | 25952 | 1077 |  70 |  3 |\n",
       "| 13 | Georgia              | 27024 |  927 | 106 |  3 |\n",
       "| 15 | Hawaii               | 32453 | 1507 | 218 | 18 |\n",
       "| 16 | Idaho                | 25298 |  792 | 208 |  7 |\n",
       "| 17 | Illinois             | 30684 |  952 |  83 |  3 |\n",
       "| 18 | Indiana              | 27247 |  782 | 117 |  3 |\n",
       "| 19 | Iowa                 | 30002 |  740 | 143 |  4 |\n",
       "| 20 | Kansas               | 29126 |  801 | 208 |  5 |\n",
       "| 21 | Kentucky             | 24702 |  713 | 159 |  4 |\n",
       "| 22 | Louisiana            | 25086 |  825 | 155 |  4 |\n",
       "| 23 | Maine                | 26841 |  808 | 187 |  7 |\n",
       "| 24 | Maryland             | 37147 | 1311 | 152 |  5 |\n",
       "| 25 | Massachusetts        | 34498 | 1173 | 199 |  5 |\n",
       "| 26 | Michigan             | 26987 |  824 |  82 |  3 |\n",
       "| 27 | Minnesota            | 32734 |  906 | 189 |  4 |\n",
       "| 28 | Mississippi          | 22766 |  740 | 194 |  5 |\n",
       "| 29 | Missouri             | 26999 |  784 | 113 |  4 |\n",
       "| 30 | Montana              | 26249 |  751 | 206 |  9 |\n",
       "| 31 | Nebraska             | 30020 |  773 | 146 |  4 |\n",
       "| 32 | Nevada               | 29019 | 1017 | 213 |  6 |\n",
       "| 33 | New Hampshire        | 33172 | 1052 | 387 |  9 |\n",
       "| 34 | New Jersey           | 35075 | 1249 | 148 |  4 |\n",
       "| 35 | New Mexico           | 24457 |  809 | 214 |  6 |\n",
       "| 36 | New York             | 31057 | 1194 |  69 |  3 |\n",
       "| 37 | North Carolina       | 26482 |  844 | 111 |  3 |\n",
       "| 38 | North Dakota         | 32336 |  775 | 245 |  9 |\n",
       "| 39 | Ohio                 | 27435 |  764 |  94 |  2 |\n",
       "| 40 | Oklahoma             | 26207 |  766 | 101 |  3 |\n",
       "| 41 | Oregon               | 27389 |  988 | 146 |  4 |\n",
       "| 42 | Pennsylvania         | 28923 |  885 | 119 |  3 |\n",
       "| 44 | Rhode Island         | 30210 |  957 | 259 |  6 |\n",
       "| 45 | South Carolina       | 25454 |  836 | 123 |  4 |\n",
       "| 46 | South Dakota         | 28821 |  696 | 276 |  7 |\n",
       "| 47 | Tennessee            | 25453 |  808 | 102 |  4 |\n",
       "| 48 | Texas                | 28063 |  952 | 110 |  2 |\n",
       "| 49 | Utah                 | 27928 |  948 | 239 |  6 |\n",
       "| 50 | Vermont              | 29351 |  945 | 361 | 11 |\n",
       "| 51 | Virginia             | 32545 | 1166 | 202 |  5 |\n",
       "| 53 | Washington           | 32318 | 1120 | 113 |  4 |\n",
       "| 54 | West Virginia        | 23707 |  681 | 203 |  6 |\n",
       "| 55 | Wisconsin            | 29868 |  813 | 135 |  3 |\n",
       "| 56 | Wyoming              | 30854 |  828 | 342 | 11 |\n",
       "| 72 | Puerto Rico          |    NA |  464 |  NA |  6 |\n",
       "\n"
      ],
      "text/plain": [
       "   GEOID NAME                 estimate_income estimate_rent moe_income moe_rent\n",
       "1  01    Alabama              24476            747          136         3      \n",
       "2  02    Alaska               32940           1200          508        13      \n",
       "3  04    Arizona              27517            972          148         4      \n",
       "4  05    Arkansas             23789            709          165         5      \n",
       "5  06    California           29454           1358          109         3      \n",
       "6  08    Colorado             32401           1125          109         5      \n",
       "7  09    Connecticut          35326           1123          195         5      \n",
       "8  10    Delaware             31560           1076          247        10      \n",
       "9  11    District of Columbia 43198           1424          681        17      \n",
       "10 12    Florida              25952           1077           70         3      \n",
       "11 13    Georgia              27024            927          106         3      \n",
       "12 15    Hawaii               32453           1507          218        18      \n",
       "13 16    Idaho                25298            792          208         7      \n",
       "14 17    Illinois             30684            952           83         3      \n",
       "15 18    Indiana              27247            782          117         3      \n",
       "16 19    Iowa                 30002            740          143         4      \n",
       "17 20    Kansas               29126            801          208         5      \n",
       "18 21    Kentucky             24702            713          159         4      \n",
       "19 22    Louisiana            25086            825          155         4      \n",
       "20 23    Maine                26841            808          187         7      \n",
       "21 24    Maryland             37147           1311          152         5      \n",
       "22 25    Massachusetts        34498           1173          199         5      \n",
       "23 26    Michigan             26987            824           82         3      \n",
       "24 27    Minnesota            32734            906          189         4      \n",
       "25 28    Mississippi          22766            740          194         5      \n",
       "26 29    Missouri             26999            784          113         4      \n",
       "27 30    Montana              26249            751          206         9      \n",
       "28 31    Nebraska             30020            773          146         4      \n",
       "29 32    Nevada               29019           1017          213         6      \n",
       "30 33    New Hampshire        33172           1052          387         9      \n",
       "31 34    New Jersey           35075           1249          148         4      \n",
       "32 35    New Mexico           24457            809          214         6      \n",
       "33 36    New York             31057           1194           69         3      \n",
       "34 37    North Carolina       26482            844          111         3      \n",
       "35 38    North Dakota         32336            775          245         9      \n",
       "36 39    Ohio                 27435            764           94         2      \n",
       "37 40    Oklahoma             26207            766          101         3      \n",
       "38 41    Oregon               27389            988          146         4      \n",
       "39 42    Pennsylvania         28923            885          119         3      \n",
       "40 44    Rhode Island         30210            957          259         6      \n",
       "41 45    South Carolina       25454            836          123         4      \n",
       "42 46    South Dakota         28821            696          276         7      \n",
       "43 47    Tennessee            25453            808          102         4      \n",
       "44 48    Texas                28063            952          110         2      \n",
       "45 49    Utah                 27928            948          239         6      \n",
       "46 50    Vermont              29351            945          361        11      \n",
       "47 51    Virginia             32545           1166          202         5      \n",
       "48 53    Washington           32318           1120          113         4      \n",
       "49 54    West Virginia        23707            681          203         6      \n",
       "50 55    Wisconsin            29868            813          135         3      \n",
       "51 56    Wyoming              30854            828          342        11      \n",
       "52 72    Puerto Rico             NA            464           NA         6      "
      ]
     },
     "metadata": {
      "tags": []
     },
     "output_type": "display_data"
    }
   ],
   "source": [
    "us_rent_income %>%\n",
    "  pivot_wider(names_from = variable, values_from = c(estimate, moe))"
   ]
  },
  {
   "cell_type": "markdown",
   "metadata": {
    "colab_type": "text",
    "id": "MvILqR-wcEgt"
   },
   "source": [
    "ggplot easily allows to visualize multiple time series in the same plot. For this, it is necessary to convert the data first to a long format using `pivot_longer`."
   ]
  },
  {
   "cell_type": "code",
   "execution_count": null,
   "metadata": {
    "colab": {
     "base_uri": "https://localhost:8080/",
     "height": 1000
    },
    "colab_type": "code",
    "id": "M4nHVv0CcEgt",
    "outputId": "91dc7f36-d18a-4942-ad08-24dc6543bfb0"
   },
   "outputs": [
    {
     "data": {
      "text/html": [
       "<table class=\"dataframe\">\n",
       "<caption>A tibble: 252 × 3</caption>\n",
       "<thead>\n",
       "\t<tr><th scope=col>x</th><th scope=col>variable</th><th scope=col>value</th></tr>\n",
       "\t<tr><th scope=col>&lt;dbl&gt;</th><th scope=col>&lt;chr&gt;</th><th scope=col>&lt;dbl&gt;</th></tr>\n",
       "</thead>\n",
       "<tbody>\n",
       "\t<tr><td>0.00</td><td>sin</td><td>0.00000000</td></tr>\n",
       "\t<tr><td>0.00</td><td>cos</td><td>1.00000000</td></tr>\n",
       "\t<tr><td>0.05</td><td>sin</td><td>0.04997917</td></tr>\n",
       "\t<tr><td>0.05</td><td>cos</td><td>0.99875026</td></tr>\n",
       "\t<tr><td>0.10</td><td>sin</td><td>0.09983342</td></tr>\n",
       "\t<tr><td>0.10</td><td>cos</td><td>0.99500417</td></tr>\n",
       "\t<tr><td>0.15</td><td>sin</td><td>0.14943813</td></tr>\n",
       "\t<tr><td>0.15</td><td>cos</td><td>0.98877108</td></tr>\n",
       "\t<tr><td>0.20</td><td>sin</td><td>0.19866933</td></tr>\n",
       "\t<tr><td>0.20</td><td>cos</td><td>0.98006658</td></tr>\n",
       "\t<tr><td>0.25</td><td>sin</td><td>0.24740396</td></tr>\n",
       "\t<tr><td>0.25</td><td>cos</td><td>0.96891242</td></tr>\n",
       "\t<tr><td>0.30</td><td>sin</td><td>0.29552021</td></tr>\n",
       "\t<tr><td>0.30</td><td>cos</td><td>0.95533649</td></tr>\n",
       "\t<tr><td>0.35</td><td>sin</td><td>0.34289781</td></tr>\n",
       "\t<tr><td>0.35</td><td>cos</td><td>0.93937271</td></tr>\n",
       "\t<tr><td>0.40</td><td>sin</td><td>0.38941834</td></tr>\n",
       "\t<tr><td>0.40</td><td>cos</td><td>0.92106099</td></tr>\n",
       "\t<tr><td>0.45</td><td>sin</td><td>0.43496553</td></tr>\n",
       "\t<tr><td>0.45</td><td>cos</td><td>0.90044710</td></tr>\n",
       "\t<tr><td>0.50</td><td>sin</td><td>0.47942554</td></tr>\n",
       "\t<tr><td>0.50</td><td>cos</td><td>0.87758256</td></tr>\n",
       "\t<tr><td>0.55</td><td>sin</td><td>0.52268723</td></tr>\n",
       "\t<tr><td>0.55</td><td>cos</td><td>0.85252452</td></tr>\n",
       "\t<tr><td>0.60</td><td>sin</td><td>0.56464247</td></tr>\n",
       "\t<tr><td>0.60</td><td>cos</td><td>0.82533561</td></tr>\n",
       "\t<tr><td>0.65</td><td>sin</td><td>0.60518641</td></tr>\n",
       "\t<tr><td>0.65</td><td>cos</td><td>0.79608380</td></tr>\n",
       "\t<tr><td>0.70</td><td>sin</td><td>0.64421769</td></tr>\n",
       "\t<tr><td>0.70</td><td>cos</td><td>0.76484219</td></tr>\n",
       "\t<tr><td>⋮</td><td>⋮</td><td>⋮</td></tr>\n",
       "\t<tr><td>5.55</td><td>sin</td><td>-0.66923986</td></tr>\n",
       "\t<tr><td>5.55</td><td>cos</td><td> 0.74304644</td></tr>\n",
       "\t<tr><td>5.60</td><td>sin</td><td>-0.63126664</td></tr>\n",
       "\t<tr><td>5.60</td><td>cos</td><td> 0.77556588</td></tr>\n",
       "\t<tr><td>5.65</td><td>sin</td><td>-0.59171558</td></tr>\n",
       "\t<tr><td>5.65</td><td>cos</td><td> 0.80614681</td></tr>\n",
       "\t<tr><td>5.70</td><td>sin</td><td>-0.55068554</td></tr>\n",
       "\t<tr><td>5.70</td><td>cos</td><td> 0.83471278</td></tr>\n",
       "\t<tr><td>5.75</td><td>sin</td><td>-0.50827908</td></tr>\n",
       "\t<tr><td>5.75</td><td>cos</td><td> 0.86119242</td></tr>\n",
       "\t<tr><td>5.80</td><td>sin</td><td>-0.46460218</td></tr>\n",
       "\t<tr><td>5.80</td><td>cos</td><td> 0.88551952</td></tr>\n",
       "\t<tr><td>5.85</td><td>sin</td><td>-0.41976402</td></tr>\n",
       "\t<tr><td>5.85</td><td>cos</td><td> 0.90763328</td></tr>\n",
       "\t<tr><td>5.90</td><td>sin</td><td>-0.37387666</td></tr>\n",
       "\t<tr><td>5.90</td><td>cos</td><td> 0.92747843</td></tr>\n",
       "\t<tr><td>5.95</td><td>sin</td><td>-0.32705481</td></tr>\n",
       "\t<tr><td>5.95</td><td>cos</td><td> 0.94500537</td></tr>\n",
       "\t<tr><td>6.00</td><td>sin</td><td>-0.27941550</td></tr>\n",
       "\t<tr><td>6.00</td><td>cos</td><td> 0.96017029</td></tr>\n",
       "\t<tr><td>6.05</td><td>sin</td><td>-0.23107779</td></tr>\n",
       "\t<tr><td>6.05</td><td>cos</td><td> 0.97293528</td></tr>\n",
       "\t<tr><td>6.10</td><td>sin</td><td>-0.18216250</td></tr>\n",
       "\t<tr><td>6.10</td><td>cos</td><td> 0.98326844</td></tr>\n",
       "\t<tr><td>6.15</td><td>sin</td><td>-0.13279191</td></tr>\n",
       "\t<tr><td>6.15</td><td>cos</td><td> 0.99114394</td></tr>\n",
       "\t<tr><td>6.20</td><td>sin</td><td>-0.08308940</td></tr>\n",
       "\t<tr><td>6.20</td><td>cos</td><td> 0.99654210</td></tr>\n",
       "\t<tr><td>6.25</td><td>sin</td><td>-0.03317922</td></tr>\n",
       "\t<tr><td>6.25</td><td>cos</td><td> 0.99944942</td></tr>\n",
       "</tbody>\n",
       "</table>\n"
      ],
      "text/latex": [
       "A tibble: 252 × 3\n",
       "\\begin{tabular}{lll}\n",
       " x & variable & value\\\\\n",
       " <dbl> & <chr> & <dbl>\\\\\n",
       "\\hline\n",
       "\t 0.00 & sin & 0.00000000\\\\\n",
       "\t 0.00 & cos & 1.00000000\\\\\n",
       "\t 0.05 & sin & 0.04997917\\\\\n",
       "\t 0.05 & cos & 0.99875026\\\\\n",
       "\t 0.10 & sin & 0.09983342\\\\\n",
       "\t 0.10 & cos & 0.99500417\\\\\n",
       "\t 0.15 & sin & 0.14943813\\\\\n",
       "\t 0.15 & cos & 0.98877108\\\\\n",
       "\t 0.20 & sin & 0.19866933\\\\\n",
       "\t 0.20 & cos & 0.98006658\\\\\n",
       "\t 0.25 & sin & 0.24740396\\\\\n",
       "\t 0.25 & cos & 0.96891242\\\\\n",
       "\t 0.30 & sin & 0.29552021\\\\\n",
       "\t 0.30 & cos & 0.95533649\\\\\n",
       "\t 0.35 & sin & 0.34289781\\\\\n",
       "\t 0.35 & cos & 0.93937271\\\\\n",
       "\t 0.40 & sin & 0.38941834\\\\\n",
       "\t 0.40 & cos & 0.92106099\\\\\n",
       "\t 0.45 & sin & 0.43496553\\\\\n",
       "\t 0.45 & cos & 0.90044710\\\\\n",
       "\t 0.50 & sin & 0.47942554\\\\\n",
       "\t 0.50 & cos & 0.87758256\\\\\n",
       "\t 0.55 & sin & 0.52268723\\\\\n",
       "\t 0.55 & cos & 0.85252452\\\\\n",
       "\t 0.60 & sin & 0.56464247\\\\\n",
       "\t 0.60 & cos & 0.82533561\\\\\n",
       "\t 0.65 & sin & 0.60518641\\\\\n",
       "\t 0.65 & cos & 0.79608380\\\\\n",
       "\t 0.70 & sin & 0.64421769\\\\\n",
       "\t 0.70 & cos & 0.76484219\\\\\n",
       "\t ⋮ & ⋮ & ⋮\\\\\n",
       "\t 5.55 & sin & -0.66923986\\\\\n",
       "\t 5.55 & cos &  0.74304644\\\\\n",
       "\t 5.60 & sin & -0.63126664\\\\\n",
       "\t 5.60 & cos &  0.77556588\\\\\n",
       "\t 5.65 & sin & -0.59171558\\\\\n",
       "\t 5.65 & cos &  0.80614681\\\\\n",
       "\t 5.70 & sin & -0.55068554\\\\\n",
       "\t 5.70 & cos &  0.83471278\\\\\n",
       "\t 5.75 & sin & -0.50827908\\\\\n",
       "\t 5.75 & cos &  0.86119242\\\\\n",
       "\t 5.80 & sin & -0.46460218\\\\\n",
       "\t 5.80 & cos &  0.88551952\\\\\n",
       "\t 5.85 & sin & -0.41976402\\\\\n",
       "\t 5.85 & cos &  0.90763328\\\\\n",
       "\t 5.90 & sin & -0.37387666\\\\\n",
       "\t 5.90 & cos &  0.92747843\\\\\n",
       "\t 5.95 & sin & -0.32705481\\\\\n",
       "\t 5.95 & cos &  0.94500537\\\\\n",
       "\t 6.00 & sin & -0.27941550\\\\\n",
       "\t 6.00 & cos &  0.96017029\\\\\n",
       "\t 6.05 & sin & -0.23107779\\\\\n",
       "\t 6.05 & cos &  0.97293528\\\\\n",
       "\t 6.10 & sin & -0.18216250\\\\\n",
       "\t 6.10 & cos &  0.98326844\\\\\n",
       "\t 6.15 & sin & -0.13279191\\\\\n",
       "\t 6.15 & cos &  0.99114394\\\\\n",
       "\t 6.20 & sin & -0.08308940\\\\\n",
       "\t 6.20 & cos &  0.99654210\\\\\n",
       "\t 6.25 & sin & -0.03317922\\\\\n",
       "\t 6.25 & cos &  0.99944942\\\\\n",
       "\\end{tabular}\n"
      ],
      "text/markdown": [
       "\n",
       "A tibble: 252 × 3\n",
       "\n",
       "| x &lt;dbl&gt; | variable &lt;chr&gt; | value &lt;dbl&gt; |\n",
       "|---|---|---|\n",
       "| 0.00 | sin | 0.00000000 |\n",
       "| 0.00 | cos | 1.00000000 |\n",
       "| 0.05 | sin | 0.04997917 |\n",
       "| 0.05 | cos | 0.99875026 |\n",
       "| 0.10 | sin | 0.09983342 |\n",
       "| 0.10 | cos | 0.99500417 |\n",
       "| 0.15 | sin | 0.14943813 |\n",
       "| 0.15 | cos | 0.98877108 |\n",
       "| 0.20 | sin | 0.19866933 |\n",
       "| 0.20 | cos | 0.98006658 |\n",
       "| 0.25 | sin | 0.24740396 |\n",
       "| 0.25 | cos | 0.96891242 |\n",
       "| 0.30 | sin | 0.29552021 |\n",
       "| 0.30 | cos | 0.95533649 |\n",
       "| 0.35 | sin | 0.34289781 |\n",
       "| 0.35 | cos | 0.93937271 |\n",
       "| 0.40 | sin | 0.38941834 |\n",
       "| 0.40 | cos | 0.92106099 |\n",
       "| 0.45 | sin | 0.43496553 |\n",
       "| 0.45 | cos | 0.90044710 |\n",
       "| 0.50 | sin | 0.47942554 |\n",
       "| 0.50 | cos | 0.87758256 |\n",
       "| 0.55 | sin | 0.52268723 |\n",
       "| 0.55 | cos | 0.85252452 |\n",
       "| 0.60 | sin | 0.56464247 |\n",
       "| 0.60 | cos | 0.82533561 |\n",
       "| 0.65 | sin | 0.60518641 |\n",
       "| 0.65 | cos | 0.79608380 |\n",
       "| 0.70 | sin | 0.64421769 |\n",
       "| 0.70 | cos | 0.76484219 |\n",
       "| ⋮ | ⋮ | ⋮ |\n",
       "| 5.55 | sin | -0.66923986 |\n",
       "| 5.55 | cos |  0.74304644 |\n",
       "| 5.60 | sin | -0.63126664 |\n",
       "| 5.60 | cos |  0.77556588 |\n",
       "| 5.65 | sin | -0.59171558 |\n",
       "| 5.65 | cos |  0.80614681 |\n",
       "| 5.70 | sin | -0.55068554 |\n",
       "| 5.70 | cos |  0.83471278 |\n",
       "| 5.75 | sin | -0.50827908 |\n",
       "| 5.75 | cos |  0.86119242 |\n",
       "| 5.80 | sin | -0.46460218 |\n",
       "| 5.80 | cos |  0.88551952 |\n",
       "| 5.85 | sin | -0.41976402 |\n",
       "| 5.85 | cos |  0.90763328 |\n",
       "| 5.90 | sin | -0.37387666 |\n",
       "| 5.90 | cos |  0.92747843 |\n",
       "| 5.95 | sin | -0.32705481 |\n",
       "| 5.95 | cos |  0.94500537 |\n",
       "| 6.00 | sin | -0.27941550 |\n",
       "| 6.00 | cos |  0.96017029 |\n",
       "| 6.05 | sin | -0.23107779 |\n",
       "| 6.05 | cos |  0.97293528 |\n",
       "| 6.10 | sin | -0.18216250 |\n",
       "| 6.10 | cos |  0.98326844 |\n",
       "| 6.15 | sin | -0.13279191 |\n",
       "| 6.15 | cos |  0.99114394 |\n",
       "| 6.20 | sin | -0.08308940 |\n",
       "| 6.20 | cos |  0.99654210 |\n",
       "| 6.25 | sin | -0.03317922 |\n",
       "| 6.25 | cos |  0.99944942 |\n",
       "\n"
      ],
      "text/plain": [
       "    x    variable value      \n",
       "1   0.00 sin      0.00000000 \n",
       "2   0.00 cos      1.00000000 \n",
       "3   0.05 sin      0.04997917 \n",
       "4   0.05 cos      0.99875026 \n",
       "5   0.10 sin      0.09983342 \n",
       "6   0.10 cos      0.99500417 \n",
       "7   0.15 sin      0.14943813 \n",
       "8   0.15 cos      0.98877108 \n",
       "9   0.20 sin      0.19866933 \n",
       "10  0.20 cos      0.98006658 \n",
       "11  0.25 sin      0.24740396 \n",
       "12  0.25 cos      0.96891242 \n",
       "13  0.30 sin      0.29552021 \n",
       "14  0.30 cos      0.95533649 \n",
       "15  0.35 sin      0.34289781 \n",
       "16  0.35 cos      0.93937271 \n",
       "17  0.40 sin      0.38941834 \n",
       "18  0.40 cos      0.92106099 \n",
       "19  0.45 sin      0.43496553 \n",
       "20  0.45 cos      0.90044710 \n",
       "21  0.50 sin      0.47942554 \n",
       "22  0.50 cos      0.87758256 \n",
       "23  0.55 sin      0.52268723 \n",
       "24  0.55 cos      0.85252452 \n",
       "25  0.60 sin      0.56464247 \n",
       "26  0.60 cos      0.82533561 \n",
       "27  0.65 sin      0.60518641 \n",
       "28  0.65 cos      0.79608380 \n",
       "29  0.70 sin      0.64421769 \n",
       "30  0.70 cos      0.76484219 \n",
       "⋮   ⋮    ⋮        ⋮          \n",
       "223 5.55 sin      -0.66923986\n",
       "224 5.55 cos       0.74304644\n",
       "225 5.60 sin      -0.63126664\n",
       "226 5.60 cos       0.77556588\n",
       "227 5.65 sin      -0.59171558\n",
       "228 5.65 cos       0.80614681\n",
       "229 5.70 sin      -0.55068554\n",
       "230 5.70 cos       0.83471278\n",
       "231 5.75 sin      -0.50827908\n",
       "232 5.75 cos       0.86119242\n",
       "233 5.80 sin      -0.46460218\n",
       "234 5.80 cos       0.88551952\n",
       "235 5.85 sin      -0.41976402\n",
       "236 5.85 cos       0.90763328\n",
       "237 5.90 sin      -0.37387666\n",
       "238 5.90 cos       0.92747843\n",
       "239 5.95 sin      -0.32705481\n",
       "240 5.95 cos       0.94500537\n",
       "241 6.00 sin      -0.27941550\n",
       "242 6.00 cos       0.96017029\n",
       "243 6.05 sin      -0.23107779\n",
       "244 6.05 cos       0.97293528\n",
       "245 6.10 sin      -0.18216250\n",
       "246 6.10 cos       0.98326844\n",
       "247 6.15 sin      -0.13279191\n",
       "248 6.15 cos       0.99114394\n",
       "249 6.20 sin      -0.08308940\n",
       "250 6.20 cos       0.99654210\n",
       "251 6.25 sin      -0.03317922\n",
       "252 6.25 cos       0.99944942"
      ]
     },
     "metadata": {
      "tags": []
     },
     "output_type": "display_data"
    }
   ],
   "source": [
    "trigon_data = data.frame(lapply(c(sin, cos), function(f) f(seq(0, 2*pi,0.05))), x= seq(0, 2*pi,0.05))\n",
    "colnames(trigon_data) = c(\"sin\", \"cos\", \"x\")\n",
    "trigon_data_long = pivot_longer(trigon_data, c(1,2),names_to = \"variable\", values_to = \"value\")\n",
    "trigon_data_long"
   ]
  },
  {
   "cell_type": "code",
   "execution_count": null,
   "metadata": {
    "colab": {
     "base_uri": "https://localhost:8080/",
     "height": 437
    },
    "colab_type": "code",
    "id": "HJFMXNkbcEgw",
    "outputId": "a0dcc2b8-c664-428c-e538-62c2ac45eeda"
   },
   "outputs": [
    {
     "data": {
      "image/png": "[encoded data removed]",
      "text/plain": [
       "plot without title"
      ]
     },
     "metadata": {
      "image/png": {
       "height": 420,
       "width": 420
      },
      "tags": []
     },
     "output_type": "display_data"
    }
   ],
   "source": [
    "ggplot(trigon_data_long, aes(x=x, y=value,colour=variable, group = variable)) + geom_line()"
   ]
  },
  {
   "cell_type": "markdown",
   "metadata": {
    "colab_type": "text",
    "id": "vdzFqzL2cEgx"
   },
   "source": [
    "### **dplyr** package\n",
    "\n",
    "**dplyr** is a powerful package for quick data manipulation. It transforms and summarizes tabular data with rows and columns. \"dplyr\" is the next iteration of \"plyr\" and save more time than \"plyr\". Here is an example comparing the speed: https://blog.rstudio.com/2014/01/17/introducing-dplyr/.\n",
    "\n",
    "Here are some important functions to remember:\n",
    "1. `select()`: select columns"
   ]
  },
  {
   "cell_type": "code",
   "execution_count": null,
   "metadata": {
    "colab": {
     "base_uri": "https://localhost:8080/",
     "height": 536
    },
    "colab_type": "code",
    "id": "5dRxyA9hcEgy",
    "outputId": "7220acc9-5dad-416f-d34c-63dc9b2fcb0c"
   },
   "outputs": [
    {
     "data": {
      "text/html": [
       "<table class=\"dataframe\">\n",
       "<caption>A data.frame: 3 × 2</caption>\n",
       "<thead>\n",
       "\t<tr><th></th><th scope=col>Sepal.Length</th><th scope=col>Sepal.Width</th></tr>\n",
       "\t<tr><th></th><th scope=col>&lt;dbl&gt;</th><th scope=col>&lt;dbl&gt;</th></tr>\n",
       "</thead>\n",
       "<tbody>\n",
       "\t<tr><th scope=row>1</th><td>5.1</td><td>3.5</td></tr>\n",
       "\t<tr><th scope=row>2</th><td>4.9</td><td>3.0</td></tr>\n",
       "\t<tr><th scope=row>3</th><td>4.7</td><td>3.2</td></tr>\n",
       "</tbody>\n",
       "</table>\n"
      ],
      "text/latex": [
       "A data.frame: 3 × 2\n",
       "\\begin{tabular}{r|ll}\n",
       "  & Sepal.Length & Sepal.Width\\\\\n",
       "  & <dbl> & <dbl>\\\\\n",
       "\\hline\n",
       "\t1 & 5.1 & 3.5\\\\\n",
       "\t2 & 4.9 & 3.0\\\\\n",
       "\t3 & 4.7 & 3.2\\\\\n",
       "\\end{tabular}\n"
      ],
      "text/markdown": [
       "\n",
       "A data.frame: 3 × 2\n",
       "\n",
       "| <!--/--> | Sepal.Length &lt;dbl&gt; | Sepal.Width &lt;dbl&gt; |\n",
       "|---|---|---|\n",
       "| 1 | 5.1 | 3.5 |\n",
       "| 2 | 4.9 | 3.0 |\n",
       "| 3 | 4.7 | 3.2 |\n",
       "\n"
      ],
      "text/plain": [
       "  Sepal.Length Sepal.Width\n",
       "1 5.1          3.5        \n",
       "2 4.9          3.0        \n",
       "3 4.7          3.2        "
      ]
     },
     "metadata": {
      "tags": []
     },
     "output_type": "display_data"
    },
    {
     "data": {
      "text/html": [
       "<table class=\"dataframe\">\n",
       "<caption>A data.frame: 3 × 4</caption>\n",
       "<thead>\n",
       "\t<tr><th></th><th scope=col>Sepal.Length</th><th scope=col>Sepal.Width</th><th scope=col>Petal.Length</th><th scope=col>Petal.Width</th></tr>\n",
       "\t<tr><th></th><th scope=col>&lt;dbl&gt;</th><th scope=col>&lt;dbl&gt;</th><th scope=col>&lt;dbl&gt;</th><th scope=col>&lt;dbl&gt;</th></tr>\n",
       "</thead>\n",
       "<tbody>\n",
       "\t<tr><th scope=row>1</th><td>5.1</td><td>3.5</td><td>1.4</td><td>0.2</td></tr>\n",
       "\t<tr><th scope=row>2</th><td>4.9</td><td>3.0</td><td>1.4</td><td>0.2</td></tr>\n",
       "\t<tr><th scope=row>3</th><td>4.7</td><td>3.2</td><td>1.3</td><td>0.2</td></tr>\n",
       "</tbody>\n",
       "</table>\n"
      ],
      "text/latex": [
       "A data.frame: 3 × 4\n",
       "\\begin{tabular}{r|llll}\n",
       "  & Sepal.Length & Sepal.Width & Petal.Length & Petal.Width\\\\\n",
       "  & <dbl> & <dbl> & <dbl> & <dbl>\\\\\n",
       "\\hline\n",
       "\t1 & 5.1 & 3.5 & 1.4 & 0.2\\\\\n",
       "\t2 & 4.9 & 3.0 & 1.4 & 0.2\\\\\n",
       "\t3 & 4.7 & 3.2 & 1.3 & 0.2\\\\\n",
       "\\end{tabular}\n"
      ],
      "text/markdown": [
       "\n",
       "A data.frame: 3 × 4\n",
       "\n",
       "| <!--/--> | Sepal.Length &lt;dbl&gt; | Sepal.Width &lt;dbl&gt; | Petal.Length &lt;dbl&gt; | Petal.Width &lt;dbl&gt; |\n",
       "|---|---|---|---|---|\n",
       "| 1 | 5.1 | 3.5 | 1.4 | 0.2 |\n",
       "| 2 | 4.9 | 3.0 | 1.4 | 0.2 |\n",
       "| 3 | 4.7 | 3.2 | 1.3 | 0.2 |\n",
       "\n"
      ],
      "text/plain": [
       "  Sepal.Length Sepal.Width Petal.Length Petal.Width\n",
       "1 5.1          3.5         1.4          0.2        \n",
       "2 4.9          3.0         1.4          0.2        \n",
       "3 4.7          3.2         1.3          0.2        "
      ]
     },
     "metadata": {
      "tags": []
     },
     "output_type": "display_data"
    },
    {
     "data": {
      "text/html": [
       "<table class=\"dataframe\">\n",
       "<caption>A data.frame: 3 × 2</caption>\n",
       "<thead>\n",
       "\t<tr><th></th><th scope=col>Sepal.Length</th><th scope=col>Sepal.Width</th></tr>\n",
       "\t<tr><th></th><th scope=col>&lt;dbl&gt;</th><th scope=col>&lt;dbl&gt;</th></tr>\n",
       "</thead>\n",
       "<tbody>\n",
       "\t<tr><th scope=row>1</th><td>5.1</td><td>3.5</td></tr>\n",
       "\t<tr><th scope=row>2</th><td>4.9</td><td>3.0</td></tr>\n",
       "\t<tr><th scope=row>3</th><td>4.7</td><td>3.2</td></tr>\n",
       "</tbody>\n",
       "</table>\n"
      ],
      "text/latex": [
       "A data.frame: 3 × 2\n",
       "\\begin{tabular}{r|ll}\n",
       "  & Sepal.Length & Sepal.Width\\\\\n",
       "  & <dbl> & <dbl>\\\\\n",
       "\\hline\n",
       "\t1 & 5.1 & 3.5\\\\\n",
       "\t2 & 4.9 & 3.0\\\\\n",
       "\t3 & 4.7 & 3.2\\\\\n",
       "\\end{tabular}\n"
      ],
      "text/markdown": [
       "\n",
       "A data.frame: 3 × 2\n",
       "\n",
       "| <!--/--> | Sepal.Length &lt;dbl&gt; | Sepal.Width &lt;dbl&gt; |\n",
       "|---|---|---|\n",
       "| 1 | 5.1 | 3.5 |\n",
       "| 2 | 4.9 | 3.0 |\n",
       "| 3 | 4.7 | 3.2 |\n",
       "\n"
      ],
      "text/plain": [
       "  Sepal.Length Sepal.Width\n",
       "1 5.1          3.5        \n",
       "2 4.9          3.0        \n",
       "3 4.7          3.2        "
      ]
     },
     "metadata": {
      "tags": []
     },
     "output_type": "display_data"
    }
   ],
   "source": [
    "# dplyr is also contained in tidyverse library\n",
    "head(select(iris,Sepal.Length,Sepal.Width),3)\n",
    "# to select all the columns except a specific column, use the subtraction operator\n",
    "head(select(iris,-Species),3)\n",
    "# select all columns that start with the character string \"Sepal\"\n",
    "head(select(iris,starts_with(\"Sepal\")),3)"
   ]
  },
  {
   "cell_type": "markdown",
   "metadata": {
    "colab_type": "text",
    "id": "LxWgXcVhcEg3"
   },
   "source": [
    "Some additional options: `ends_with()`=end with a character string, `contains()`=contain a character string, `matches()`=match a regular expression, `one_of()`=from a group of column names."
   ]
  },
  {
   "cell_type": "markdown",
   "metadata": {
    "colab_type": "text",
    "id": "annBPTxbcEg3"
   },
   "source": [
    "2. `filter()`: filter rows"
   ]
  },
  {
   "cell_type": "code",
   "execution_count": null,
   "metadata": {
    "colab": {
     "base_uri": "https://localhost:8080/",
     "height": 474
    },
    "colab_type": "code",
    "id": "uvuAhG3YcEg4",
    "outputId": "623c2f97-22b7-4adb-8816-d4b6681be509"
   },
   "outputs": [
    {
     "data": {
      "text/html": [
       "<table class=\"dataframe\">\n",
       "<caption>A data.frame: 3 × 5</caption>\n",
       "<thead>\n",
       "\t<tr><th></th><th scope=col>Sepal.Length</th><th scope=col>Sepal.Width</th><th scope=col>Petal.Length</th><th scope=col>Petal.Width</th><th scope=col>Species</th></tr>\n",
       "\t<tr><th></th><th scope=col>&lt;dbl&gt;</th><th scope=col>&lt;dbl&gt;</th><th scope=col>&lt;dbl&gt;</th><th scope=col>&lt;dbl&gt;</th><th scope=col>&lt;fct&gt;</th></tr>\n",
       "</thead>\n",
       "<tbody>\n",
       "\t<tr><th scope=row>1</th><td>5.1</td><td>3.5</td><td>1.4</td><td>0.2</td><td>setosa</td></tr>\n",
       "\t<tr><th scope=row>2</th><td>4.9</td><td>3.0</td><td>1.4</td><td>0.2</td><td>setosa</td></tr>\n",
       "\t<tr><th scope=row>3</th><td>4.7</td><td>3.2</td><td>1.3</td><td>0.2</td><td>setosa</td></tr>\n",
       "</tbody>\n",
       "</table>\n"
      ],
      "text/latex": [
       "A data.frame: 3 × 5\n",
       "\\begin{tabular}{r|lllll}\n",
       "  & Sepal.Length & Sepal.Width & Petal.Length & Petal.Width & Species\\\\\n",
       "  & <dbl> & <dbl> & <dbl> & <dbl> & <fct>\\\\\n",
       "\\hline\n",
       "\t1 & 5.1 & 3.5 & 1.4 & 0.2 & setosa\\\\\n",
       "\t2 & 4.9 & 3.0 & 1.4 & 0.2 & setosa\\\\\n",
       "\t3 & 4.7 & 3.2 & 1.3 & 0.2 & setosa\\\\\n",
       "\\end{tabular}\n"
      ],
      "text/markdown": [
       "\n",
       "A data.frame: 3 × 5\n",
       "\n",
       "| <!--/--> | Sepal.Length &lt;dbl&gt; | Sepal.Width &lt;dbl&gt; | Petal.Length &lt;dbl&gt; | Petal.Width &lt;dbl&gt; | Species &lt;fct&gt; |\n",
       "|---|---|---|---|---|---|\n",
       "| 1 | 5.1 | 3.5 | 1.4 | 0.2 | setosa |\n",
       "| 2 | 4.9 | 3.0 | 1.4 | 0.2 | setosa |\n",
       "| 3 | 4.7 | 3.2 | 1.3 | 0.2 | setosa |\n",
       "\n"
      ],
      "text/plain": [
       "  Sepal.Length Sepal.Width Petal.Length Petal.Width Species\n",
       "1 5.1          3.5         1.4          0.2         setosa \n",
       "2 4.9          3.0         1.4          0.2         setosa \n",
       "3 4.7          3.2         1.3          0.2         setosa "
      ]
     },
     "metadata": {
      "tags": []
     },
     "output_type": "display_data"
    },
    {
     "data": {
      "text/html": [
       "<table class=\"dataframe\">\n",
       "<caption>A data.frame: 3 × 5</caption>\n",
       "<thead>\n",
       "\t<tr><th scope=col>Sepal.Length</th><th scope=col>Sepal.Width</th><th scope=col>Petal.Length</th><th scope=col>Petal.Width</th><th scope=col>Species</th></tr>\n",
       "\t<tr><th scope=col>&lt;dbl&gt;</th><th scope=col>&lt;dbl&gt;</th><th scope=col>&lt;dbl&gt;</th><th scope=col>&lt;dbl&gt;</th><th scope=col>&lt;fct&gt;</th></tr>\n",
       "</thead>\n",
       "<tbody>\n",
       "\t<tr><td>5.8</td><td>4.0</td><td>1.2</td><td>0.2</td><td>setosa</td></tr>\n",
       "\t<tr><td>5.7</td><td>4.4</td><td>1.5</td><td>0.4</td><td>setosa</td></tr>\n",
       "\t<tr><td>5.7</td><td>3.8</td><td>1.7</td><td>0.3</td><td>setosa</td></tr>\n",
       "</tbody>\n",
       "</table>\n"
      ],
      "text/latex": [
       "A data.frame: 3 × 5\n",
       "\\begin{tabular}{lllll}\n",
       " Sepal.Length & Sepal.Width & Petal.Length & Petal.Width & Species\\\\\n",
       " <dbl> & <dbl> & <dbl> & <dbl> & <fct>\\\\\n",
       "\\hline\n",
       "\t 5.8 & 4.0 & 1.2 & 0.2 & setosa\\\\\n",
       "\t 5.7 & 4.4 & 1.5 & 0.4 & setosa\\\\\n",
       "\t 5.7 & 3.8 & 1.7 & 0.3 & setosa\\\\\n",
       "\\end{tabular}\n"
      ],
      "text/markdown": [
       "\n",
       "A data.frame: 3 × 5\n",
       "\n",
       "| Sepal.Length &lt;dbl&gt; | Sepal.Width &lt;dbl&gt; | Petal.Length &lt;dbl&gt; | Petal.Width &lt;dbl&gt; | Species &lt;fct&gt; |\n",
       "|---|---|---|---|---|\n",
       "| 5.8 | 4.0 | 1.2 | 0.2 | setosa |\n",
       "| 5.7 | 4.4 | 1.5 | 0.4 | setosa |\n",
       "| 5.7 | 3.8 | 1.7 | 0.3 | setosa |\n",
       "\n"
      ],
      "text/plain": [
       "  Sepal.Length Sepal.Width Petal.Length Petal.Width Species\n",
       "1 5.8          4.0         1.2          0.2         setosa \n",
       "2 5.7          4.4         1.5          0.4         setosa \n",
       "3 5.7          3.8         1.7          0.3         setosa "
      ]
     },
     "metadata": {
      "tags": []
     },
     "output_type": "display_data"
    },
    {
     "data": {
      "text/html": [
       "<table class=\"dataframe\">\n",
       "<caption>A data.frame: 1 × 5</caption>\n",
       "<thead>\n",
       "\t<tr><th scope=col>Sepal.Length</th><th scope=col>Sepal.Width</th><th scope=col>Petal.Length</th><th scope=col>Petal.Width</th><th scope=col>Species</th></tr>\n",
       "\t<tr><th scope=col>&lt;dbl&gt;</th><th scope=col>&lt;dbl&gt;</th><th scope=col>&lt;dbl&gt;</th><th scope=col>&lt;dbl&gt;</th><th scope=col>&lt;fct&gt;</th></tr>\n",
       "</thead>\n",
       "<tbody>\n",
       "\t<tr><td>5.7</td><td>3.8</td><td>1.7</td><td>0.3</td><td>setosa</td></tr>\n",
       "</tbody>\n",
       "</table>\n"
      ],
      "text/latex": [
       "A data.frame: 1 × 5\n",
       "\\begin{tabular}{lllll}\n",
       " Sepal.Length & Sepal.Width & Petal.Length & Petal.Width & Species\\\\\n",
       " <dbl> & <dbl> & <dbl> & <dbl> & <fct>\\\\\n",
       "\\hline\n",
       "\t 5.7 & 3.8 & 1.7 & 0.3 & setosa\\\\\n",
       "\\end{tabular}\n"
      ],
      "text/markdown": [
       "\n",
       "A data.frame: 1 × 5\n",
       "\n",
       "| Sepal.Length &lt;dbl&gt; | Sepal.Width &lt;dbl&gt; | Petal.Length &lt;dbl&gt; | Petal.Width &lt;dbl&gt; | Species &lt;fct&gt; |\n",
       "|---|---|---|---|---|\n",
       "| 5.7 | 3.8 | 1.7 | 0.3 | setosa |\n",
       "\n"
      ],
      "text/plain": [
       "  Sepal.Length Sepal.Width Petal.Length Petal.Width Species\n",
       "1 5.7          3.8         1.7          0.3         setosa "
      ]
     },
     "metadata": {
      "tags": []
     },
     "output_type": "display_data"
    }
   ],
   "source": [
    "head(filter(iris,Species==\"setosa\"),3)\n",
    "filter(iris,Species==\"setosa\",Sepal.Length>5.5)\n",
    "filter(iris,Species==\"setosa\",Sepal.Length>5.5,Sepal.Width<4)"
   ]
  },
  {
   "cell_type": "markdown",
   "metadata": {
    "colab_type": "text",
    "id": "016Kt5JrcEg8"
   },
   "source": [
    "3. Pipe operator: `%>%`\n",
    "\"dplyr\" has the ability to chain operations together from left to right with the %>% operator. This operator is used to pipe the outbput from one function to the input of another function."
   ]
  },
  {
   "cell_type": "code",
   "execution_count": null,
   "metadata": {
    "colab": {
     "base_uri": "https://localhost:8080/",
     "height": 190
    },
    "colab_type": "code",
    "id": "2Szo9rKmcEg8",
    "outputId": "9df92795-4a1d-4ace-e635-85a6882d1aa3"
   },
   "outputs": [
    {
     "data": {
      "text/html": [
       "<table class=\"dataframe\">\n",
       "<caption>A data.frame: 3 × 1</caption>\n",
       "<thead>\n",
       "\t<tr><th></th><th scope=col>Sepal.Length</th></tr>\n",
       "\t<tr><th></th><th scope=col>&lt;dbl&gt;</th></tr>\n",
       "</thead>\n",
       "<tbody>\n",
       "\t<tr><th scope=row>1</th><td>5.1</td></tr>\n",
       "\t<tr><th scope=row>2</th><td>4.9</td></tr>\n",
       "\t<tr><th scope=row>3</th><td>4.7</td></tr>\n",
       "</tbody>\n",
       "</table>\n"
      ],
      "text/latex": [
       "A data.frame: 3 × 1\n",
       "\\begin{tabular}{r|l}\n",
       "  & Sepal.Length\\\\\n",
       "  & <dbl>\\\\\n",
       "\\hline\n",
       "\t1 & 5.1\\\\\n",
       "\t2 & 4.9\\\\\n",
       "\t3 & 4.7\\\\\n",
       "\\end{tabular}\n"
      ],
      "text/markdown": [
       "\n",
       "A data.frame: 3 × 1\n",
       "\n",
       "| <!--/--> | Sepal.Length &lt;dbl&gt; |\n",
       "|---|---|\n",
       "| 1 | 5.1 |\n",
       "| 2 | 4.9 |\n",
       "| 3 | 4.7 |\n",
       "\n"
      ],
      "text/plain": [
       "  Sepal.Length\n",
       "1 5.1         \n",
       "2 4.9         \n",
       "3 4.7         "
      ]
     },
     "metadata": {
      "tags": []
     },
     "output_type": "display_data"
    }
   ],
   "source": [
    "iris %>%\n",
    "  select(Sepal.Length) %>%\n",
    "  head(3)"
   ]
  },
  {
   "cell_type": "markdown",
   "metadata": {
    "colab_type": "text",
    "id": "cks80QGMcEhA"
   },
   "source": [
    "4. `arrange()`: re-order the rows by a particular column"
   ]
  },
  {
   "cell_type": "code",
   "execution_count": null,
   "metadata": {
    "colab": {
     "base_uri": "https://localhost:8080/",
     "height": 629
    },
    "colab_type": "code",
    "id": "p_tHtclKcEhB",
    "outputId": "f918391e-8548-4591-f0e7-6a613e9186d0"
   },
   "outputs": [
    {
     "data": {
      "text/html": [
       "<table class=\"dataframe\">\n",
       "<caption>A data.frame: 3 × 5</caption>\n",
       "<thead>\n",
       "\t<tr><th></th><th scope=col>Sepal.Length</th><th scope=col>Sepal.Width</th><th scope=col>Petal.Length</th><th scope=col>Petal.Width</th><th scope=col>Species</th></tr>\n",
       "\t<tr><th></th><th scope=col>&lt;dbl&gt;</th><th scope=col>&lt;dbl&gt;</th><th scope=col>&lt;dbl&gt;</th><th scope=col>&lt;dbl&gt;</th><th scope=col>&lt;fct&gt;</th></tr>\n",
       "</thead>\n",
       "<tbody>\n",
       "\t<tr><th scope=row>1</th><td>4.3</td><td>3.0</td><td>1.1</td><td>0.1</td><td>setosa</td></tr>\n",
       "\t<tr><th scope=row>2</th><td>4.4</td><td>2.9</td><td>1.4</td><td>0.2</td><td>setosa</td></tr>\n",
       "\t<tr><th scope=row>3</th><td>4.4</td><td>3.0</td><td>1.3</td><td>0.2</td><td>setosa</td></tr>\n",
       "</tbody>\n",
       "</table>\n"
      ],
      "text/latex": [
       "A data.frame: 3 × 5\n",
       "\\begin{tabular}{r|lllll}\n",
       "  & Sepal.Length & Sepal.Width & Petal.Length & Petal.Width & Species\\\\\n",
       "  & <dbl> & <dbl> & <dbl> & <dbl> & <fct>\\\\\n",
       "\\hline\n",
       "\t1 & 4.3 & 3.0 & 1.1 & 0.1 & setosa\\\\\n",
       "\t2 & 4.4 & 2.9 & 1.4 & 0.2 & setosa\\\\\n",
       "\t3 & 4.4 & 3.0 & 1.3 & 0.2 & setosa\\\\\n",
       "\\end{tabular}\n"
      ],
      "text/markdown": [
       "\n",
       "A data.frame: 3 × 5\n",
       "\n",
       "| <!--/--> | Sepal.Length &lt;dbl&gt; | Sepal.Width &lt;dbl&gt; | Petal.Length &lt;dbl&gt; | Petal.Width &lt;dbl&gt; | Species &lt;fct&gt; |\n",
       "|---|---|---|---|---|---|\n",
       "| 1 | 4.3 | 3.0 | 1.1 | 0.1 | setosa |\n",
       "| 2 | 4.4 | 2.9 | 1.4 | 0.2 | setosa |\n",
       "| 3 | 4.4 | 3.0 | 1.3 | 0.2 | setosa |\n",
       "\n"
      ],
      "text/plain": [
       "  Sepal.Length Sepal.Width Petal.Length Petal.Width Species\n",
       "1 4.3          3.0         1.1          0.1         setosa \n",
       "2 4.4          2.9         1.4          0.2         setosa \n",
       "3 4.4          3.0         1.3          0.2         setosa "
      ]
     },
     "metadata": {
      "tags": []
     },
     "output_type": "display_data"
    },
    {
     "data": {
      "text/html": [
       "<table class=\"dataframe\">\n",
       "<caption>A data.frame: 3 × 5</caption>\n",
       "<thead>\n",
       "\t<tr><th></th><th scope=col>Sepal.Length</th><th scope=col>Sepal.Width</th><th scope=col>Petal.Length</th><th scope=col>Petal.Width</th><th scope=col>Species</th></tr>\n",
       "\t<tr><th></th><th scope=col>&lt;dbl&gt;</th><th scope=col>&lt;dbl&gt;</th><th scope=col>&lt;dbl&gt;</th><th scope=col>&lt;dbl&gt;</th><th scope=col>&lt;fct&gt;</th></tr>\n",
       "</thead>\n",
       "<tbody>\n",
       "\t<tr><th scope=row>1</th><td>4.3</td><td>3.0</td><td>1.1</td><td>0.1</td><td>setosa</td></tr>\n",
       "\t<tr><th scope=row>2</th><td>4.4</td><td>2.9</td><td>1.4</td><td>0.2</td><td>setosa</td></tr>\n",
       "\t<tr><th scope=row>3</th><td>4.4</td><td>3.0</td><td>1.3</td><td>0.2</td><td>setosa</td></tr>\n",
       "</tbody>\n",
       "</table>\n"
      ],
      "text/latex": [
       "A data.frame: 3 × 5\n",
       "\\begin{tabular}{r|lllll}\n",
       "  & Sepal.Length & Sepal.Width & Petal.Length & Petal.Width & Species\\\\\n",
       "  & <dbl> & <dbl> & <dbl> & <dbl> & <fct>\\\\\n",
       "\\hline\n",
       "\t1 & 4.3 & 3.0 & 1.1 & 0.1 & setosa\\\\\n",
       "\t2 & 4.4 & 2.9 & 1.4 & 0.2 & setosa\\\\\n",
       "\t3 & 4.4 & 3.0 & 1.3 & 0.2 & setosa\\\\\n",
       "\\end{tabular}\n"
      ],
      "text/markdown": [
       "\n",
       "A data.frame: 3 × 5\n",
       "\n",
       "| <!--/--> | Sepal.Length &lt;dbl&gt; | Sepal.Width &lt;dbl&gt; | Petal.Length &lt;dbl&gt; | Petal.Width &lt;dbl&gt; | Species &lt;fct&gt; |\n",
       "|---|---|---|---|---|---|\n",
       "| 1 | 4.3 | 3.0 | 1.1 | 0.1 | setosa |\n",
       "| 2 | 4.4 | 2.9 | 1.4 | 0.2 | setosa |\n",
       "| 3 | 4.4 | 3.0 | 1.3 | 0.2 | setosa |\n",
       "\n"
      ],
      "text/plain": [
       "  Sepal.Length Sepal.Width Petal.Length Petal.Width Species\n",
       "1 4.3          3.0         1.1          0.1         setosa \n",
       "2 4.4          2.9         1.4          0.2         setosa \n",
       "3 4.4          3.0         1.3          0.2         setosa "
      ]
     },
     "metadata": {
      "tags": []
     },
     "output_type": "display_data"
    },
    {
     "data": {
      "text/html": [
       "<table class=\"dataframe\">\n",
       "<caption>A data.frame: 6 × 5</caption>\n",
       "<thead>\n",
       "\t<tr><th></th><th scope=col>Sepal.Length</th><th scope=col>Sepal.Width</th><th scope=col>Petal.Length</th><th scope=col>Petal.Width</th><th scope=col>Species</th></tr>\n",
       "\t<tr><th></th><th scope=col>&lt;dbl&gt;</th><th scope=col>&lt;dbl&gt;</th><th scope=col>&lt;dbl&gt;</th><th scope=col>&lt;dbl&gt;</th><th scope=col>&lt;fct&gt;</th></tr>\n",
       "</thead>\n",
       "<tbody>\n",
       "\t<tr><th scope=row>14</th><td>5.7</td><td>4.4</td><td>1.5</td><td>0.4</td><td>setosa   </td></tr>\n",
       "\t<tr><th scope=row>15</th><td>5.7</td><td>3.8</td><td>1.7</td><td>0.3</td><td>setosa   </td></tr>\n",
       "\t<tr><th scope=row>16</th><td>5.8</td><td>4.0</td><td>1.2</td><td>0.2</td><td>setosa   </td></tr>\n",
       "\t<tr><th scope=row>17</th><td>7.2</td><td>3.6</td><td>6.1</td><td>2.5</td><td>virginica</td></tr>\n",
       "\t<tr><th scope=row>18</th><td>7.7</td><td>3.8</td><td>6.7</td><td>2.2</td><td>virginica</td></tr>\n",
       "\t<tr><th scope=row>19</th><td>7.9</td><td>3.8</td><td>6.4</td><td>2.0</td><td>virginica</td></tr>\n",
       "</tbody>\n",
       "</table>\n"
      ],
      "text/latex": [
       "A data.frame: 6 × 5\n",
       "\\begin{tabular}{r|lllll}\n",
       "  & Sepal.Length & Sepal.Width & Petal.Length & Petal.Width & Species\\\\\n",
       "  & <dbl> & <dbl> & <dbl> & <dbl> & <fct>\\\\\n",
       "\\hline\n",
       "\t14 & 5.7 & 4.4 & 1.5 & 0.4 & setosa   \\\\\n",
       "\t15 & 5.7 & 3.8 & 1.7 & 0.3 & setosa   \\\\\n",
       "\t16 & 5.8 & 4.0 & 1.2 & 0.2 & setosa   \\\\\n",
       "\t17 & 7.2 & 3.6 & 6.1 & 2.5 & virginica\\\\\n",
       "\t18 & 7.7 & 3.8 & 6.7 & 2.2 & virginica\\\\\n",
       "\t19 & 7.9 & 3.8 & 6.4 & 2.0 & virginica\\\\\n",
       "\\end{tabular}\n"
      ],
      "text/markdown": [
       "\n",
       "A data.frame: 6 × 5\n",
       "\n",
       "| <!--/--> | Sepal.Length &lt;dbl&gt; | Sepal.Width &lt;dbl&gt; | Petal.Length &lt;dbl&gt; | Petal.Width &lt;dbl&gt; | Species &lt;fct&gt; |\n",
       "|---|---|---|---|---|---|\n",
       "| 14 | 5.7 | 4.4 | 1.5 | 0.4 | setosa    |\n",
       "| 15 | 5.7 | 3.8 | 1.7 | 0.3 | setosa    |\n",
       "| 16 | 5.8 | 4.0 | 1.2 | 0.2 | setosa    |\n",
       "| 17 | 7.2 | 3.6 | 6.1 | 2.5 | virginica |\n",
       "| 18 | 7.7 | 3.8 | 6.7 | 2.2 | virginica |\n",
       "| 19 | 7.9 | 3.8 | 6.4 | 2.0 | virginica |\n",
       "\n"
      ],
      "text/plain": [
       "   Sepal.Length Sepal.Width Petal.Length Petal.Width Species  \n",
       "14 5.7          4.4         1.5          0.4         setosa   \n",
       "15 5.7          3.8         1.7          0.3         setosa   \n",
       "16 5.8          4.0         1.2          0.2         setosa   \n",
       "17 7.2          3.6         6.1          2.5         virginica\n",
       "18 7.7          3.8         6.7          2.2         virginica\n",
       "19 7.9          3.8         6.4          2.0         virginica"
      ]
     },
     "metadata": {
      "tags": []
     },
     "output_type": "display_data"
    }
   ],
   "source": [
    "# order from small to large\n",
    "iris %>% arrange(Sepal.Length) %>% head(3)\n",
    "iris %>% arrange(Species,Sepal.Length) %>% head(3)\n",
    "# View(iris %>% arrange(Species,Sepal.Length))\n",
    "iris %>% arrange(Species,Sepal.Length) %>% filter(Sepal.Width>=3.6) %>% tail"
   ]
  },
  {
   "cell_type": "markdown",
   "metadata": {
    "colab_type": "text",
    "id": "LLZDEjAwcEhH"
   },
   "source": [
    "5. `mutate()`: add new columns"
   ]
  },
  {
   "cell_type": "markdown",
   "metadata": {
    "colab_type": "text",
    "id": "A9snoE3WcEhH"
   },
   "source": [
    "iris %>% mutate(sl_mean= mean(Sepal.Length)) %>% head(3)\n",
    "iris %>% mutate(sl_mean= mean(Sepal.Length),sl_sd=sd(Sepal.Length)) %>% \n",
    "     head(3)"
   ]
  },
  {
   "cell_type": "markdown",
   "metadata": {
    "colab_type": "text",
    "id": "CWaZx_lCcEhI"
   },
   "source": [
    "6. `summarise()`: summary statistics for a given column."
   ]
  },
  {
   "cell_type": "code",
   "execution_count": null,
   "metadata": {
    "colab": {
     "base_uri": "https://localhost:8080/",
     "height": 273
    },
    "colab_type": "code",
    "id": "GD8iBZsHcEhI",
    "outputId": "652691c0-36bd-40e9-8584-0352f47afd55"
   },
   "outputs": [
    {
     "data": {
      "text/html": [
       "<table class=\"dataframe\">\n",
       "<caption>A data.frame: 1 × 1</caption>\n",
       "<thead>\n",
       "\t<tr><th scope=col>sl_mean</th></tr>\n",
       "\t<tr><th scope=col>&lt;dbl&gt;</th></tr>\n",
       "</thead>\n",
       "<tbody>\n",
       "\t<tr><td>5.843333</td></tr>\n",
       "</tbody>\n",
       "</table>\n"
      ],
      "text/latex": [
       "A data.frame: 1 × 1\n",
       "\\begin{tabular}{l}\n",
       " sl\\_mean\\\\\n",
       " <dbl>\\\\\n",
       "\\hline\n",
       "\t 5.843333\\\\\n",
       "\\end{tabular}\n"
      ],
      "text/markdown": [
       "\n",
       "A data.frame: 1 × 1\n",
       "\n",
       "| sl_mean &lt;dbl&gt; |\n",
       "|---|\n",
       "| 5.843333 |\n",
       "\n"
      ],
      "text/plain": [
       "  sl_mean \n",
       "1 5.843333"
      ]
     },
     "metadata": {
      "tags": []
     },
     "output_type": "display_data"
    },
    {
     "data": {
      "text/html": [
       "<table class=\"dataframe\">\n",
       "<caption>A data.frame: 1 × 5</caption>\n",
       "<thead>\n",
       "\t<tr><th scope=col>sl_min</th><th scope=col>sl_med</th><th scope=col>total</th><th scope=col>sl_first</th><th scope=col>sl_dist</th></tr>\n",
       "\t<tr><th scope=col>&lt;dbl&gt;</th><th scope=col>&lt;dbl&gt;</th><th scope=col>&lt;int&gt;</th><th scope=col>&lt;dbl&gt;</th><th scope=col>&lt;int&gt;</th></tr>\n",
       "</thead>\n",
       "<tbody>\n",
       "\t<tr><td>4.3</td><td>5.8</td><td>150</td><td>5.1</td><td>35</td></tr>\n",
       "</tbody>\n",
       "</table>\n"
      ],
      "text/latex": [
       "A data.frame: 1 × 5\n",
       "\\begin{tabular}{lllll}\n",
       " sl\\_min & sl\\_med & total & sl\\_first & sl\\_dist\\\\\n",
       " <dbl> & <dbl> & <int> & <dbl> & <int>\\\\\n",
       "\\hline\n",
       "\t 4.3 & 5.8 & 150 & 5.1 & 35\\\\\n",
       "\\end{tabular}\n"
      ],
      "text/markdown": [
       "\n",
       "A data.frame: 1 × 5\n",
       "\n",
       "| sl_min &lt;dbl&gt; | sl_med &lt;dbl&gt; | total &lt;int&gt; | sl_first &lt;dbl&gt; | sl_dist &lt;int&gt; |\n",
       "|---|---|---|---|---|\n",
       "| 4.3 | 5.8 | 150 | 5.1 | 35 |\n",
       "\n"
      ],
      "text/plain": [
       "  sl_min sl_med total sl_first sl_dist\n",
       "1 4.3    5.8    150   5.1      35     "
      ]
     },
     "metadata": {
      "tags": []
     },
     "output_type": "display_data"
    }
   ],
   "source": [
    "iris%>% summarise(sl_mean = mean(Sepal.Length))\n",
    "iris %>% summarise(sl_min = min(Sepal.Length),\n",
    "                  sl_med = median(Sepal.Length),\n",
    "                  total = n(),\n",
    "                  sl_first = first(Sepal.Length),\n",
    "                  sl_dist = n_distinct(Sepal.Length))\n",
    "# n() returns the length of vector"
   ]
  },
  {
   "cell_type": "markdown",
   "metadata": {
    "colab_type": "text",
    "id": "AA_gwyhrcEhM"
   },
   "source": [
    "7. `group_by()`: it's related to concept of \"split-apply-combine\"."
   ]
  },
  {
   "cell_type": "code",
   "execution_count": null,
   "metadata": {
    "colab": {
     "base_uri": "https://localhost:8080/",
     "height": 570
    },
    "colab_type": "code",
    "id": "q9e7rJ-rcEhM",
    "outputId": "ad5d53e7-77f5-4132-fff8-360d2c35e8ae"
   },
   "outputs": [
    {
     "name": "stderr",
     "output_type": "stream",
     "text": [
      "`summarise()` ungrouping output (override with `.groups` argument)\n",
      "\n"
     ]
    },
    {
     "data": {
      "text/html": [
       "<table class=\"dataframe\">\n",
       "<caption>A tibble: 3 × 6</caption>\n",
       "<thead>\n",
       "\t<tr><th scope=col>Species</th><th scope=col>sl_min</th><th scope=col>sl_med</th><th scope=col>total</th><th scope=col>sl_first</th><th scope=col>sl_dist</th></tr>\n",
       "\t<tr><th scope=col>&lt;fct&gt;</th><th scope=col>&lt;dbl&gt;</th><th scope=col>&lt;dbl&gt;</th><th scope=col>&lt;int&gt;</th><th scope=col>&lt;dbl&gt;</th><th scope=col>&lt;int&gt;</th></tr>\n",
       "</thead>\n",
       "<tbody>\n",
       "\t<tr><td>setosa    </td><td>4.3</td><td>5.0</td><td>50</td><td>5.1</td><td>15</td></tr>\n",
       "\t<tr><td>versicolor</td><td>4.9</td><td>5.9</td><td>50</td><td>7.0</td><td>21</td></tr>\n",
       "\t<tr><td>virginica </td><td>4.9</td><td>6.5</td><td>50</td><td>6.3</td><td>21</td></tr>\n",
       "</tbody>\n",
       "</table>\n"
      ],
      "text/latex": [
       "A tibble: 3 × 6\n",
       "\\begin{tabular}{llllll}\n",
       " Species & sl\\_min & sl\\_med & total & sl\\_first & sl\\_dist\\\\\n",
       " <fct> & <dbl> & <dbl> & <int> & <dbl> & <int>\\\\\n",
       "\\hline\n",
       "\t setosa     & 4.3 & 5.0 & 50 & 5.1 & 15\\\\\n",
       "\t versicolor & 4.9 & 5.9 & 50 & 7.0 & 21\\\\\n",
       "\t virginica  & 4.9 & 6.5 & 50 & 6.3 & 21\\\\\n",
       "\\end{tabular}\n"
      ],
      "text/markdown": [
       "\n",
       "A tibble: 3 × 6\n",
       "\n",
       "| Species &lt;fct&gt; | sl_min &lt;dbl&gt; | sl_med &lt;dbl&gt; | total &lt;int&gt; | sl_first &lt;dbl&gt; | sl_dist &lt;int&gt; |\n",
       "|---|---|---|---|---|---|\n",
       "| setosa     | 4.3 | 5.0 | 50 | 5.1 | 15 |\n",
       "| versicolor | 4.9 | 5.9 | 50 | 7.0 | 21 |\n",
       "| virginica  | 4.9 | 6.5 | 50 | 6.3 | 21 |\n",
       "\n"
      ],
      "text/plain": [
       "  Species    sl_min sl_med total sl_first sl_dist\n",
       "1 setosa     4.3    5.0    50    5.1      15     \n",
       "2 versicolor 4.9    5.9    50    7.0      21     \n",
       "3 virginica  4.9    6.5    50    6.3      21     "
      ]
     },
     "metadata": {
      "tags": []
     },
     "output_type": "display_data"
    },
    {
     "data": {
      "text/html": [
       "<table class=\"dataframe\">\n",
       "<caption>A grouped_df: 3 × 6</caption>\n",
       "<thead>\n",
       "\t<tr><th scope=col>Sepal.Length</th><th scope=col>Sepal.Width</th><th scope=col>Petal.Length</th><th scope=col>Petal.Width</th><th scope=col>Species</th><th scope=col>sl_mean</th></tr>\n",
       "\t<tr><th scope=col>&lt;dbl&gt;</th><th scope=col>&lt;dbl&gt;</th><th scope=col>&lt;dbl&gt;</th><th scope=col>&lt;dbl&gt;</th><th scope=col>&lt;fct&gt;</th><th scope=col>&lt;dbl&gt;</th></tr>\n",
       "</thead>\n",
       "<tbody>\n",
       "\t<tr><td>5.1</td><td>3.5</td><td>1.4</td><td>0.2</td><td>setosa</td><td>5.006</td></tr>\n",
       "\t<tr><td>4.9</td><td>3.0</td><td>1.4</td><td>0.2</td><td>setosa</td><td>5.006</td></tr>\n",
       "\t<tr><td>4.7</td><td>3.2</td><td>1.3</td><td>0.2</td><td>setosa</td><td>5.006</td></tr>\n",
       "</tbody>\n",
       "</table>\n"
      ],
      "text/latex": [
       "A grouped\\_df: 3 × 6\n",
       "\\begin{tabular}{llllll}\n",
       " Sepal.Length & Sepal.Width & Petal.Length & Petal.Width & Species & sl\\_mean\\\\\n",
       " <dbl> & <dbl> & <dbl> & <dbl> & <fct> & <dbl>\\\\\n",
       "\\hline\n",
       "\t 5.1 & 3.5 & 1.4 & 0.2 & setosa & 5.006\\\\\n",
       "\t 4.9 & 3.0 & 1.4 & 0.2 & setosa & 5.006\\\\\n",
       "\t 4.7 & 3.2 & 1.3 & 0.2 & setosa & 5.006\\\\\n",
       "\\end{tabular}\n"
      ],
      "text/markdown": [
       "\n",
       "A grouped_df: 3 × 6\n",
       "\n",
       "| Sepal.Length &lt;dbl&gt; | Sepal.Width &lt;dbl&gt; | Petal.Length &lt;dbl&gt; | Petal.Width &lt;dbl&gt; | Species &lt;fct&gt; | sl_mean &lt;dbl&gt; |\n",
       "|---|---|---|---|---|---|\n",
       "| 5.1 | 3.5 | 1.4 | 0.2 | setosa | 5.006 |\n",
       "| 4.9 | 3.0 | 1.4 | 0.2 | setosa | 5.006 |\n",
       "| 4.7 | 3.2 | 1.3 | 0.2 | setosa | 5.006 |\n",
       "\n"
      ],
      "text/plain": [
       "  Sepal.Length Sepal.Width Petal.Length Petal.Width Species sl_mean\n",
       "1 5.1          3.5         1.4          0.2         setosa  5.006  \n",
       "2 4.9          3.0         1.4          0.2         setosa  5.006  \n",
       "3 4.7          3.2         1.3          0.2         setosa  5.006  "
      ]
     },
     "metadata": {
      "tags": []
     },
     "output_type": "display_data"
    },
    {
     "data": {
      "text/html": [
       "<table class=\"dataframe\">\n",
       "<caption>A grouped_df: 3 × 6</caption>\n",
       "<thead>\n",
       "\t<tr><th scope=col>Sepal.Length</th><th scope=col>Sepal.Width</th><th scope=col>Petal.Length</th><th scope=col>Petal.Width</th><th scope=col>Species</th><th scope=col>sl_mean</th></tr>\n",
       "\t<tr><th scope=col>&lt;dbl&gt;</th><th scope=col>&lt;dbl&gt;</th><th scope=col>&lt;dbl&gt;</th><th scope=col>&lt;dbl&gt;</th><th scope=col>&lt;fct&gt;</th><th scope=col>&lt;dbl&gt;</th></tr>\n",
       "</thead>\n",
       "<tbody>\n",
       "\t<tr><td>6.5</td><td>3.0</td><td>5.2</td><td>2.0</td><td>virginica</td><td>6.588</td></tr>\n",
       "\t<tr><td>6.2</td><td>3.4</td><td>5.4</td><td>2.3</td><td>virginica</td><td>6.588</td></tr>\n",
       "\t<tr><td>5.9</td><td>3.0</td><td>5.1</td><td>1.8</td><td>virginica</td><td>6.588</td></tr>\n",
       "</tbody>\n",
       "</table>\n"
      ],
      "text/latex": [
       "A grouped\\_df: 3 × 6\n",
       "\\begin{tabular}{llllll}\n",
       " Sepal.Length & Sepal.Width & Petal.Length & Petal.Width & Species & sl\\_mean\\\\\n",
       " <dbl> & <dbl> & <dbl> & <dbl> & <fct> & <dbl>\\\\\n",
       "\\hline\n",
       "\t 6.5 & 3.0 & 5.2 & 2.0 & virginica & 6.588\\\\\n",
       "\t 6.2 & 3.4 & 5.4 & 2.3 & virginica & 6.588\\\\\n",
       "\t 5.9 & 3.0 & 5.1 & 1.8 & virginica & 6.588\\\\\n",
       "\\end{tabular}\n"
      ],
      "text/markdown": [
       "\n",
       "A grouped_df: 3 × 6\n",
       "\n",
       "| Sepal.Length &lt;dbl&gt; | Sepal.Width &lt;dbl&gt; | Petal.Length &lt;dbl&gt; | Petal.Width &lt;dbl&gt; | Species &lt;fct&gt; | sl_mean &lt;dbl&gt; |\n",
       "|---|---|---|---|---|---|\n",
       "| 6.5 | 3.0 | 5.2 | 2.0 | virginica | 6.588 |\n",
       "| 6.2 | 3.4 | 5.4 | 2.3 | virginica | 6.588 |\n",
       "| 5.9 | 3.0 | 5.1 | 1.8 | virginica | 6.588 |\n",
       "\n"
      ],
      "text/plain": [
       "  Sepal.Length Sepal.Width Petal.Length Petal.Width Species   sl_mean\n",
       "1 6.5          3.0         5.2          2.0         virginica 6.588  \n",
       "2 6.2          3.4         5.4          2.3         virginica 6.588  \n",
       "3 5.9          3.0         5.1          1.8         virginica 6.588  "
      ]
     },
     "metadata": {
      "tags": []
     },
     "output_type": "display_data"
    }
   ],
   "source": [
    "iris %>% group_by(Species) %>% \n",
    "  summarise(sl_min = min(Sepal.Length),\n",
    "                  sl_med = median(Sepal.Length),\n",
    "                  total = n(),\n",
    "                  sl_first = first(Sepal.Length),\n",
    "                  sl_dist = n_distinct(Sepal.Length))\n",
    "# maintain the original variables\n",
    "temp <- iris %>% group_by(Species) %>%\n",
    "  mutate(sl_mean = mean(Sepal.Length))\n",
    "head(temp,3)\n",
    "tail(temp,3)"
   ]
  },
  {
   "cell_type": "markdown",
   "metadata": {
    "colab_type": "text",
    "id": "aqXX1yigcEhO"
   },
   "source": [
    "For more graph tutorials in R, http://tutorials.iq.harvard.edu/R/Rgraphics/Rgraphics.html\n",
    "\n",
    "For more dplyr in R,\n",
    "http://genomicsclass.github.io/book/pages/dplyr_tutorial.html"
   ]
  }
 ],
 "metadata": {
  "colab": {
   "name": "STATS 413 Lab1.ipynb",
   "provenance": [],
   "toc_visible": true
  },
  "kernelspec": {
   "display_name": "R",
   "language": "R",
   "name": "ir"
  },
  "language_info": {
   "codemirror_mode": "r",
   "file_extension": ".r",
   "mimetype": "text/x-r-source",
   "name": "R",
   "pygments_lexer": "r",
   "version": "3.4.1"
  }
 },
 "nbformat": 4,
 "nbformat_minor": 1
}
